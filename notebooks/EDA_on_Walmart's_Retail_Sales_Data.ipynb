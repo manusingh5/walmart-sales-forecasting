{
 "cells": [
  {
   "cell_type": "code",
   "execution_count": 1,
   "metadata": {},
   "outputs": [],
   "source": [
    "#Import Libraries\n",
    "import pandas as pd\n",
    "import numpy as np\n",
    "import matplotlib.pyplot as plt\n",
    "import seaborn as sns"
   ]
  },
  {
   "cell_type": "code",
   "execution_count": 2,
   "metadata": {},
   "outputs": [
    {
     "name": "stderr",
     "output_type": "stream",
     "text": [
      "C:\\Users\\Payal\\anaconda3\\lib\\site-packages\\IPython\\core\\interactiveshell.py:3146: DtypeWarning: Columns (22,23,24,25,26,27,28) have mixed types.Specify dtype option on import or set low_memory=False.\n",
      "  has_raised = await self.run_ast_nodes(code_ast.body, cell_name,\n"
     ]
    },
    {
     "data": {
      "text/html": [
       "<div>\n",
       "<style scoped>\n",
       "    .dataframe tbody tr th:only-of-type {\n",
       "        vertical-align: middle;\n",
       "    }\n",
       "\n",
       "    .dataframe tbody tr th {\n",
       "        vertical-align: top;\n",
       "    }\n",
       "\n",
       "    .dataframe thead th {\n",
       "        text-align: right;\n",
       "    }\n",
       "</style>\n",
       "<table border=\"1\" class=\"dataframe\">\n",
       "  <thead>\n",
       "    <tr style=\"text-align: right;\">\n",
       "      <th></th>\n",
       "      <th>city</th>\n",
       "      <th>customer_age</th>\n",
       "      <th>customer_name</th>\n",
       "      <th>customer_segment</th>\n",
       "      <th>discount</th>\n",
       "      <th>order_date</th>\n",
       "      <th>order_id</th>\n",
       "      <th>order_priority</th>\n",
       "      <th>order_quantity</th>\n",
       "      <th>product_base_margin</th>\n",
       "      <th>...</th>\n",
       "      <th>shipping_cost</th>\n",
       "      <th>state</th>\n",
       "      <th>unit_price</th>\n",
       "      <th>zip_code</th>\n",
       "      <th>adjusted_col</th>\n",
       "      <th>Unnamed: 24</th>\n",
       "      <th>Unnamed: 25</th>\n",
       "      <th>Unnamed: 26</th>\n",
       "      <th>Unnamed: 27</th>\n",
       "      <th>Unnamed: 28</th>\n",
       "    </tr>\n",
       "  </thead>\n",
       "  <tbody>\n",
       "    <tr>\n",
       "      <th>0</th>\n",
       "      <td>Stevens Point</td>\n",
       "      <td>60</td>\n",
       "      <td>Dennis Bolton</td>\n",
       "      <td>Corporate</td>\n",
       "      <td>0.17</td>\n",
       "      <td>29-02-2020</td>\n",
       "      <td>a42c8cff-5757-4e94-80b0-807538fefd25</td>\n",
       "      <td>Not Specified</td>\n",
       "      <td>7</td>\n",
       "      <td>0.55</td>\n",
       "      <td>...</td>\n",
       "      <td>3.772509354</td>\n",
       "      <td>Wisconsin</td>\n",
       "      <td>3.29</td>\n",
       "      <td>54481</td>\n",
       "      <td>NaN</td>\n",
       "      <td>NaN</td>\n",
       "      <td>NaN</td>\n",
       "      <td>NaN</td>\n",
       "      <td>NaN</td>\n",
       "      <td>NaN</td>\n",
       "    </tr>\n",
       "    <tr>\n",
       "      <th>1</th>\n",
       "      <td>Stevens Point</td>\n",
       "      <td>60</td>\n",
       "      <td>Dennis Bolton</td>\n",
       "      <td>Corporate</td>\n",
       "      <td>0.17</td>\n",
       "      <td>29-02-2020</td>\n",
       "      <td>1c37f301-564f-40ff-bd7d-73a6c06ede1a</td>\n",
       "      <td>Not Specified</td>\n",
       "      <td>7</td>\n",
       "      <td>0.55</td>\n",
       "      <td>...</td>\n",
       "      <td>816.3408935</td>\n",
       "      <td>Wisconsin</td>\n",
       "      <td>258.98</td>\n",
       "      <td>54481</td>\n",
       "      <td>NaN</td>\n",
       "      <td>NaN</td>\n",
       "      <td>NaN</td>\n",
       "      <td>NaN</td>\n",
       "      <td>NaN</td>\n",
       "      <td>NaN</td>\n",
       "    </tr>\n",
       "    <tr>\n",
       "      <th>2</th>\n",
       "      <td>Grapevine</td>\n",
       "      <td>49</td>\n",
       "      <td>Anthony Garverick</td>\n",
       "      <td>Small Business</td>\n",
       "      <td>0.05</td>\n",
       "      <td>11-11-2021</td>\n",
       "      <td>ec649eae-535d-4154-b3ef-c4405bd59da9</td>\n",
       "      <td>Medium</td>\n",
       "      <td>42</td>\n",
       "      <td>0.69</td>\n",
       "      <td>...</td>\n",
       "      <td>4530.505983</td>\n",
       "      <td>Texas</td>\n",
       "      <td>145.98</td>\n",
       "      <td>76051</td>\n",
       "      <td>NaN</td>\n",
       "      <td>NaN</td>\n",
       "      <td>NaN</td>\n",
       "      <td>NaN</td>\n",
       "      <td>NaN</td>\n",
       "      <td>NaN</td>\n",
       "    </tr>\n",
       "    <tr>\n",
       "      <th>3</th>\n",
       "      <td>Tempe</td>\n",
       "      <td>30</td>\n",
       "      <td>Anne McFarland</td>\n",
       "      <td>Consumer</td>\n",
       "      <td>0.05</td>\n",
       "      <td>02-08-2020</td>\n",
       "      <td>efdcbace-5320-4005-95e2-4c94a896dc8c</td>\n",
       "      <td>Not Specified</td>\n",
       "      <td>30</td>\n",
       "      <td>0.37</td>\n",
       "      <td>...</td>\n",
       "      <td>128.7315052</td>\n",
       "      <td>Arizona</td>\n",
       "      <td>6.68</td>\n",
       "      <td>85281</td>\n",
       "      <td>NaN</td>\n",
       "      <td>NaN</td>\n",
       "      <td>NaN</td>\n",
       "      <td>NaN</td>\n",
       "      <td>NaN</td>\n",
       "      <td>NaN</td>\n",
       "    </tr>\n",
       "    <tr>\n",
       "      <th>4</th>\n",
       "      <td>Coconut Creek</td>\n",
       "      <td>80</td>\n",
       "      <td>Raymond Fair</td>\n",
       "      <td>Home Office</td>\n",
       "      <td>0.14</td>\n",
       "      <td>13-08-2021</td>\n",
       "      <td>8fd6c0f6-9e28-45b5-ba21-a57021ae304d</td>\n",
       "      <td>Low</td>\n",
       "      <td>44</td>\n",
       "      <td>\\N</td>\n",
       "      <td>...</td>\n",
       "      <td>33.60838488</td>\n",
       "      <td>Florida</td>\n",
       "      <td>42.76</td>\n",
       "      <td>33063</td>\n",
       "      <td>NaN</td>\n",
       "      <td>NaN</td>\n",
       "      <td>NaN</td>\n",
       "      <td>NaN</td>\n",
       "      <td>NaN</td>\n",
       "      <td>NaN</td>\n",
       "    </tr>\n",
       "  </tbody>\n",
       "</table>\n",
       "<p>5 rows × 29 columns</p>\n",
       "</div>"
      ],
      "text/plain": [
       "            city customer_age      customer_name customer_segment discount  \\\n",
       "0  Stevens Point           60      Dennis Bolton        Corporate     0.17   \n",
       "1  Stevens Point           60      Dennis Bolton        Corporate     0.17   \n",
       "2      Grapevine           49  Anthony Garverick   Small Business     0.05   \n",
       "3          Tempe           30     Anne McFarland         Consumer     0.05   \n",
       "4  Coconut Creek           80       Raymond Fair      Home Office     0.14   \n",
       "\n",
       "   order_date                              order_id order_priority  \\\n",
       "0  29-02-2020  a42c8cff-5757-4e94-80b0-807538fefd25  Not Specified   \n",
       "1  29-02-2020  1c37f301-564f-40ff-bd7d-73a6c06ede1a  Not Specified   \n",
       "2  11-11-2021  ec649eae-535d-4154-b3ef-c4405bd59da9         Medium   \n",
       "3  02-08-2020  efdcbace-5320-4005-95e2-4c94a896dc8c  Not Specified   \n",
       "4  13-08-2021  8fd6c0f6-9e28-45b5-ba21-a57021ae304d            Low   \n",
       "\n",
       "  order_quantity product_base_margin  ... shipping_cost      state unit_price  \\\n",
       "0              7                0.55  ...   3.772509354  Wisconsin       3.29   \n",
       "1              7                0.55  ...   816.3408935  Wisconsin     258.98   \n",
       "2             42                0.69  ...   4530.505983      Texas     145.98   \n",
       "3             30                0.37  ...   128.7315052    Arizona       6.68   \n",
       "4             44                  \\N  ...   33.60838488    Florida      42.76   \n",
       "\n",
       "  zip_code adjusted_col Unnamed: 24 Unnamed: 25 Unnamed: 26 Unnamed: 27  \\\n",
       "0    54481          NaN         NaN         NaN         NaN         NaN   \n",
       "1    54481          NaN         NaN         NaN         NaN         NaN   \n",
       "2    76051          NaN         NaN         NaN         NaN         NaN   \n",
       "3    85281          NaN         NaN         NaN         NaN         NaN   \n",
       "4    33063          NaN         NaN         NaN         NaN         NaN   \n",
       "\n",
       "  Unnamed: 28  \n",
       "0         NaN  \n",
       "1         NaN  \n",
       "2         NaN  \n",
       "3         NaN  \n",
       "4         NaN  \n",
       "\n",
       "[5 rows x 29 columns]"
      ]
     },
     "execution_count": 2,
     "metadata": {},
     "output_type": "execute_result"
    }
   ],
   "source": [
    "#Read the CSV file and Display the first 5 rows\n",
    "df = pd.read_csv(r\"D:\\Cdac_Project\\Mini_Project\\Walmart-Retail-Dataset.csv\")\n",
    "df.head()"
   ]
  },
  {
   "cell_type": "code",
   "execution_count": 3,
   "metadata": {},
   "outputs": [
    {
     "name": "stdout",
     "output_type": "stream",
     "text": [
      "<class 'pandas.core.frame.DataFrame'>\n",
      "RangeIndex: 1039852 entries, 0 to 1039851\n",
      "Data columns (total 29 columns):\n",
      " #   Column                Non-Null Count    Dtype \n",
      "---  ------                --------------    ----- \n",
      " 0   city                  1039831 non-null  object\n",
      " 1   customer_age          1039841 non-null  object\n",
      " 2   customer_name         1039827 non-null  object\n",
      " 3   customer_segment      1037251 non-null  object\n",
      " 4   discount              1039839 non-null  object\n",
      " 5   order_date            1039837 non-null  object\n",
      " 6   order_id              1039836 non-null  object\n",
      " 7   order_priority        1037678 non-null  object\n",
      " 8   order_quantity        1039825 non-null  object\n",
      " 9   product_base_margin   1039825 non-null  object\n",
      " 10  product_category      1039824 non-null  object\n",
      " 11  product_container     1035078 non-null  object\n",
      " 12  product_name          1035067 non-null  object\n",
      " 13  product_sub_category  1035078 non-null  object\n",
      " 14  profit                1035078 non-null  object\n",
      " 15  region                1035078 non-null  object\n",
      " 16  sales                 1035078 non-null  object\n",
      " 17  ship_date             1035077 non-null  object\n",
      " 18  ship_mode             1031647 non-null  object\n",
      " 19  shipping_cost         1035010 non-null  object\n",
      " 20  state                 1035074 non-null  object\n",
      " 21  unit_price            1035074 non-null  object\n",
      " 22  zip_code              1035074 non-null  object\n",
      " 23  adjusted_col          17702 non-null    object\n",
      " 24  Unnamed: 24           10 non-null       object\n",
      " 25  Unnamed: 25           10 non-null       object\n",
      " 26  Unnamed: 26           10 non-null       object\n",
      " 27  Unnamed: 27           10 non-null       object\n",
      " 28  Unnamed: 28           10 non-null       object\n",
      "dtypes: object(29)\n",
      "memory usage: 230.1+ MB\n"
     ]
    }
   ],
   "source": [
    "#Display summary of dataframe\n",
    "df.info()"
   ]
  },
  {
   "cell_type": "code",
   "execution_count": 4,
   "metadata": {},
   "outputs": [],
   "source": [
    "#Drop unwanted columns\n",
    "dff = df.drop(['Unnamed: 24', 'Unnamed: 25', 'Unnamed: 26','Unnamed: 27', 'Unnamed: 28'],axis=1)"
   ]
  },
  {
   "cell_type": "code",
   "execution_count": 5,
   "metadata": {},
   "outputs": [
    {
     "data": {
      "text/plain": [
       "Index(['city', 'customer_age', 'customer_name', 'customer_segment', 'discount',\n",
       "       'order_date', 'order_id', 'order_priority', 'order_quantity',\n",
       "       'product_base_margin', 'product_category', 'product_container',\n",
       "       'product_name', 'product_sub_category', 'profit', 'region', 'sales',\n",
       "       'ship_date', 'ship_mode', 'shipping_cost', 'state', 'unit_price',\n",
       "       'zip_code', 'adjusted_col'],\n",
       "      dtype='object')"
      ]
     },
     "execution_count": 5,
     "metadata": {},
     "output_type": "execute_result"
    }
   ],
   "source": [
    "dff.columns"
   ]
  },
  {
   "cell_type": "code",
   "execution_count": 6,
   "metadata": {},
   "outputs": [
    {
     "name": "stdout",
     "output_type": "stream",
     "text": [
      "city                       6195\n",
      "customer_age                 83\n",
      "customer_name              5560\n",
      "customer_segment             15\n",
      "discount                     36\n",
      "order_date                 1483\n",
      "order_id                1035093\n",
      "order_priority               22\n",
      "order_quantity               67\n",
      "product_base_margin          62\n",
      "product_category             14\n",
      "product_container            22\n",
      "product_name               1268\n",
      "product_sub_category         27\n",
      "profit                   970645\n",
      "region                    17699\n",
      "sales                    192556\n",
      "ship_date                 11619\n",
      "ship_mode                  1487\n",
      "shipping_cost           1013412\n",
      "state                     17750\n",
      "unit_price                  778\n",
      "zip_code                   2867\n",
      "adjusted_col               2794\n",
      "dtype: int64\n"
     ]
    }
   ],
   "source": [
    "#Count number of unique values in each column\n",
    "unique_counts = dff.nunique()\n",
    "print(unique_counts)"
   ]
  },
  {
   "cell_type": "code",
   "execution_count": 7,
   "metadata": {},
   "outputs": [
    {
     "name": "stdout",
     "output_type": "stream",
     "text": [
      "['Corporate' 'Small Business' 'Consumer' 'Home Office' '\\\\N' nan\n",
      " 'a33fbd5f-2d51-4013-97b8-59903883fe44' '6' '44512' '7.28' 'Central' '19'\n",
      " '6.28' '0.36' 'Connecticut' '1054.17']\n"
     ]
    }
   ],
   "source": [
    "#Count number of unique values in specific column\n",
    "unique_values = dff['customer_segment'].unique()\n",
    "print(unique_values)"
   ]
  },
  {
   "cell_type": "code",
   "execution_count": 8,
   "metadata": {},
   "outputs": [
    {
     "data": {
      "text/plain": [
       "city                         21\n",
       "customer_age                 11\n",
       "customer_name                25\n",
       "customer_segment           2601\n",
       "discount                     13\n",
       "order_date                   15\n",
       "order_id                     16\n",
       "order_priority             2174\n",
       "order_quantity               27\n",
       "product_base_margin          27\n",
       "product_category             28\n",
       "product_container          4774\n",
       "product_name               4785\n",
       "product_sub_category       4774\n",
       "profit                     4774\n",
       "region                     4774\n",
       "sales                      4774\n",
       "ship_date                  4775\n",
       "ship_mode                  8205\n",
       "shipping_cost              4842\n",
       "state                      4778\n",
       "unit_price                 4778\n",
       "zip_code                   4778\n",
       "adjusted_col            1022150\n",
       "dtype: int64"
      ]
     },
     "execution_count": 8,
     "metadata": {},
     "output_type": "execute_result"
    }
   ],
   "source": [
    "#check null values\n",
    "dff.isnull().sum()"
   ]
  },
  {
   "cell_type": "code",
   "execution_count": 9,
   "metadata": {},
   "outputs": [],
   "source": [
    "#calculate percentage of null values in each column\n",
    "null_percentage = dff.isnull().mean() * 100"
   ]
  },
  {
   "cell_type": "code",
   "execution_count": 10,
   "metadata": {},
   "outputs": [
    {
     "name": "stdout",
     "output_type": "stream",
     "text": [
      "city                     0.002020\n",
      "customer_age             0.001058\n",
      "customer_name            0.002404\n",
      "customer_segment         0.250132\n",
      "discount                 0.001250\n",
      "order_date               0.001443\n",
      "order_id                 0.001539\n",
      "order_priority           0.209068\n",
      "order_quantity           0.002597\n",
      "product_base_margin      0.002597\n",
      "product_category         0.002693\n",
      "product_container        0.459104\n",
      "product_name             0.460162\n",
      "product_sub_category     0.459104\n",
      "profit                   0.459104\n",
      "region                   0.459104\n",
      "sales                    0.459104\n",
      "ship_date                0.459200\n",
      "ship_mode                0.789055\n",
      "shipping_cost            0.465643\n",
      "state                    0.459488\n",
      "unit_price               0.459488\n",
      "zip_code                 0.459488\n",
      "adjusted_col            98.297642\n",
      "dtype: float64\n"
     ]
    }
   ],
   "source": [
    "print(null_percentage)"
   ]
  },
  {
   "cell_type": "code",
   "execution_count": 11,
   "metadata": {},
   "outputs": [],
   "source": [
    "#Convert specified columns to numeric data types\n",
    "numerical_columns = ['customer_age','discount', 'order_quantity', \n",
    "                     'product_base_margin', 'profit', 'sales', \n",
    "                     'shipping_cost', 'unit_price']\n",
    "\n",
    "#Apply the conversion to numeric for the selected columns in the DataFrame\n",
    "dff[numerical_columns] = dff[numerical_columns].apply(pd.to_numeric, errors='coerce')"
   ]
  },
  {
   "cell_type": "code",
   "execution_count": 12,
   "metadata": {},
   "outputs": [
    {
     "name": "stdout",
     "output_type": "stream",
     "text": [
      "city                     object\n",
      "customer_age            float64\n",
      "customer_name            object\n",
      "customer_segment         object\n",
      "discount                float64\n",
      "order_date               object\n",
      "order_id                 object\n",
      "order_priority           object\n",
      "order_quantity          float64\n",
      "product_base_margin     float64\n",
      "product_category         object\n",
      "product_container        object\n",
      "product_name             object\n",
      "product_sub_category     object\n",
      "profit                  float64\n",
      "region                   object\n",
      "sales                   float64\n",
      "ship_date                object\n",
      "ship_mode                object\n",
      "shipping_cost           float64\n",
      "state                    object\n",
      "unit_price              float64\n",
      "zip_code                 object\n",
      "adjusted_col             object\n",
      "dtype: object\n"
     ]
    }
   ],
   "source": [
    "print(dff.dtypes)  # Check that columns are now the correct datatype"
   ]
  },
  {
   "cell_type": "code",
   "execution_count": 13,
   "metadata": {},
   "outputs": [],
   "source": [
    "dff['zip_code'] = dff['zip_code'].astype(str)"
   ]
  },
  {
   "cell_type": "code",
   "execution_count": 14,
   "metadata": {
    "scrolled": true
   },
   "outputs": [
    {
     "data": {
      "text/html": [
       "<div>\n",
       "<style scoped>\n",
       "    .dataframe tbody tr th:only-of-type {\n",
       "        vertical-align: middle;\n",
       "    }\n",
       "\n",
       "    .dataframe tbody tr th {\n",
       "        vertical-align: top;\n",
       "    }\n",
       "\n",
       "    .dataframe thead th {\n",
       "        text-align: right;\n",
       "    }\n",
       "</style>\n",
       "<table border=\"1\" class=\"dataframe\">\n",
       "  <thead>\n",
       "    <tr style=\"text-align: right;\">\n",
       "      <th></th>\n",
       "      <th>city</th>\n",
       "      <th>customer_age</th>\n",
       "      <th>customer_name</th>\n",
       "      <th>customer_segment</th>\n",
       "      <th>discount</th>\n",
       "      <th>order_date</th>\n",
       "      <th>order_id</th>\n",
       "      <th>order_priority</th>\n",
       "      <th>order_quantity</th>\n",
       "      <th>product_base_margin</th>\n",
       "      <th>...</th>\n",
       "      <th>product_sub_category</th>\n",
       "      <th>profit</th>\n",
       "      <th>region</th>\n",
       "      <th>sales</th>\n",
       "      <th>ship_date</th>\n",
       "      <th>ship_mode</th>\n",
       "      <th>shipping_cost</th>\n",
       "      <th>state</th>\n",
       "      <th>unit_price</th>\n",
       "      <th>zip_code</th>\n",
       "    </tr>\n",
       "  </thead>\n",
       "  <tbody>\n",
       "    <tr>\n",
       "      <th>0</th>\n",
       "      <td>Stevens Point</td>\n",
       "      <td>60</td>\n",
       "      <td>Dennis Bolton</td>\n",
       "      <td>Corporate</td>\n",
       "      <td>0.17</td>\n",
       "      <td>2020-02-29</td>\n",
       "      <td>a42c8cff-5757-4e94-80b0-807538fefd25</td>\n",
       "      <td>Not Specified</td>\n",
       "      <td>7</td>\n",
       "      <td>0.55</td>\n",
       "      <td>...</td>\n",
       "      <td>Chairs &amp; Chairmats</td>\n",
       "      <td>19559.92268</td>\n",
       "      <td>Central</td>\n",
       "      <td>21.84</td>\n",
       "      <td>02-03-2020</td>\n",
       "      <td>Delivery Truck</td>\n",
       "      <td>3.772509</td>\n",
       "      <td>Wisconsin</td>\n",
       "      <td>3.29</td>\n",
       "      <td>54481.0</td>\n",
       "    </tr>\n",
       "    <tr>\n",
       "      <th>1</th>\n",
       "      <td>Stevens Point</td>\n",
       "      <td>60</td>\n",
       "      <td>Dennis Bolton</td>\n",
       "      <td>Corporate</td>\n",
       "      <td>0.17</td>\n",
       "      <td>2020-02-29</td>\n",
       "      <td>1c37f301-564f-40ff-bd7d-73a6c06ede1a</td>\n",
       "      <td>Not Specified</td>\n",
       "      <td>7</td>\n",
       "      <td>0.55</td>\n",
       "      <td>...</td>\n",
       "      <td>Chairs &amp; Chairmats</td>\n",
       "      <td>19559.92268</td>\n",
       "      <td>Central</td>\n",
       "      <td>1811.67</td>\n",
       "      <td>07-03-2020</td>\n",
       "      <td>Delivery Truck</td>\n",
       "      <td>816.340893</td>\n",
       "      <td>Wisconsin</td>\n",
       "      <td>258.98</td>\n",
       "      <td>54481.0</td>\n",
       "    </tr>\n",
       "    <tr>\n",
       "      <th>2</th>\n",
       "      <td>Grapevine</td>\n",
       "      <td>49</td>\n",
       "      <td>Anthony Garverick</td>\n",
       "      <td>Small Business</td>\n",
       "      <td>0.05</td>\n",
       "      <td>2021-11-11</td>\n",
       "      <td>ec649eae-535d-4154-b3ef-c4405bd59da9</td>\n",
       "      <td>Medium</td>\n",
       "      <td>42</td>\n",
       "      <td>0.69</td>\n",
       "      <td>...</td>\n",
       "      <td>Tables</td>\n",
       "      <td>7535.93880</td>\n",
       "      <td>Central</td>\n",
       "      <td>6129.06</td>\n",
       "      <td>15-11-2021</td>\n",
       "      <td>Delivery Truck</td>\n",
       "      <td>4530.505983</td>\n",
       "      <td>Texas</td>\n",
       "      <td>145.98</td>\n",
       "      <td>76051.0</td>\n",
       "    </tr>\n",
       "    <tr>\n",
       "      <th>3</th>\n",
       "      <td>Tempe</td>\n",
       "      <td>30</td>\n",
       "      <td>Anne McFarland</td>\n",
       "      <td>Consumer</td>\n",
       "      <td>0.05</td>\n",
       "      <td>2020-08-02</td>\n",
       "      <td>efdcbace-5320-4005-95e2-4c94a896dc8c</td>\n",
       "      <td>Not Specified</td>\n",
       "      <td>30</td>\n",
       "      <td>0.37</td>\n",
       "      <td>...</td>\n",
       "      <td>Paper</td>\n",
       "      <td>18860.92419</td>\n",
       "      <td>West</td>\n",
       "      <td>198.90</td>\n",
       "      <td>08-08-2020</td>\n",
       "      <td>Regular Air</td>\n",
       "      <td>128.731505</td>\n",
       "      <td>Arizona</td>\n",
       "      <td>6.68</td>\n",
       "      <td>85281.0</td>\n",
       "    </tr>\n",
       "    <tr>\n",
       "      <th>4</th>\n",
       "      <td>Upper Arlington</td>\n",
       "      <td>84</td>\n",
       "      <td>Sara Luxemburg</td>\n",
       "      <td>Corporate</td>\n",
       "      <td>0.25</td>\n",
       "      <td>2020-09-26</td>\n",
       "      <td>6b88eca0-426a-4fd4-83c6-1657c43f94a0</td>\n",
       "      <td>High</td>\n",
       "      <td>31</td>\n",
       "      <td>0.77</td>\n",
       "      <td>...</td>\n",
       "      <td>Computer Peripherals</td>\n",
       "      <td>20175.51620</td>\n",
       "      <td>East</td>\n",
       "      <td>243.97</td>\n",
       "      <td>30-09-2020</td>\n",
       "      <td>Express Air</td>\n",
       "      <td>17.811073</td>\n",
       "      <td>Ohio</td>\n",
       "      <td>8.12</td>\n",
       "      <td>43221.0</td>\n",
       "    </tr>\n",
       "  </tbody>\n",
       "</table>\n",
       "<p>5 rows × 23 columns</p>\n",
       "</div>"
      ],
      "text/plain": [
       "              city  customer_age      customer_name customer_segment  \\\n",
       "0    Stevens Point            60      Dennis Bolton        Corporate   \n",
       "1    Stevens Point            60      Dennis Bolton        Corporate   \n",
       "2        Grapevine            49  Anthony Garverick   Small Business   \n",
       "3            Tempe            30     Anne McFarland         Consumer   \n",
       "4  Upper Arlington            84     Sara Luxemburg        Corporate   \n",
       "\n",
       "   discount  order_date                              order_id order_priority  \\\n",
       "0      0.17  2020-02-29  a42c8cff-5757-4e94-80b0-807538fefd25  Not Specified   \n",
       "1      0.17  2020-02-29  1c37f301-564f-40ff-bd7d-73a6c06ede1a  Not Specified   \n",
       "2      0.05  2021-11-11  ec649eae-535d-4154-b3ef-c4405bd59da9         Medium   \n",
       "3      0.05  2020-08-02  efdcbace-5320-4005-95e2-4c94a896dc8c  Not Specified   \n",
       "4      0.25  2020-09-26  6b88eca0-426a-4fd4-83c6-1657c43f94a0           High   \n",
       "\n",
       "   order_quantity  product_base_margin  ...  product_sub_category  \\\n",
       "0               7                 0.55  ...    Chairs & Chairmats   \n",
       "1               7                 0.55  ...    Chairs & Chairmats   \n",
       "2              42                 0.69  ...                Tables   \n",
       "3              30                 0.37  ...                 Paper   \n",
       "4              31                 0.77  ...  Computer Peripherals   \n",
       "\n",
       "        profit   region    sales   ship_date       ship_mode  shipping_cost  \\\n",
       "0  19559.92268  Central    21.84  02-03-2020  Delivery Truck       3.772509   \n",
       "1  19559.92268  Central  1811.67  07-03-2020  Delivery Truck     816.340893   \n",
       "2   7535.93880  Central  6129.06  15-11-2021  Delivery Truck    4530.505983   \n",
       "3  18860.92419     West   198.90  08-08-2020     Regular Air     128.731505   \n",
       "4  20175.51620     East   243.97  30-09-2020     Express Air      17.811073   \n",
       "\n",
       "       state unit_price  zip_code  \n",
       "0  Wisconsin       3.29   54481.0  \n",
       "1  Wisconsin     258.98   54481.0  \n",
       "2      Texas     145.98   76051.0  \n",
       "3    Arizona       6.68   85281.0  \n",
       "4       Ohio       8.12   43221.0  \n",
       "\n",
       "[5 rows x 23 columns]"
      ]
     },
     "execution_count": 14,
     "metadata": {},
     "output_type": "execute_result"
    }
   ],
   "source": [
    "df = pd.read_csv(r\"D:\\Cdac_Project\\Mini_Project\\final_file.csv\")\n",
    "df.head()"
   ]
  },
  {
   "cell_type": "code",
   "execution_count": 15,
   "metadata": {},
   "outputs": [
    {
     "data": {
      "text/plain": [
       "Index(['city', 'customer_age', 'customer_name', 'customer_segment', 'discount',\n",
       "       'order_date', 'order_id', 'order_priority', 'order_quantity',\n",
       "       'product_base_margin', 'product_category', 'product_container',\n",
       "       'product_name', 'product_sub_category', 'profit', 'region', 'sales',\n",
       "       'ship_date', 'ship_mode', 'shipping_cost', 'state', 'unit_price',\n",
       "       'zip_code'],\n",
       "      dtype='object')"
      ]
     },
     "execution_count": 15,
     "metadata": {},
     "output_type": "execute_result"
    }
   ],
   "source": [
    "df.columns"
   ]
  },
  {
   "cell_type": "code",
   "execution_count": 16,
   "metadata": {},
   "outputs": [
    {
     "data": {
      "text/plain": [
       "city                     object\n",
       "customer_age              int64\n",
       "customer_name            object\n",
       "customer_segment         object\n",
       "discount                float64\n",
       "order_date               object\n",
       "order_id                 object\n",
       "order_priority           object\n",
       "order_quantity            int64\n",
       "product_base_margin     float64\n",
       "product_category         object\n",
       "product_container        object\n",
       "product_name             object\n",
       "product_sub_category     object\n",
       "profit                  float64\n",
       "region                   object\n",
       "sales                   float64\n",
       "ship_date                object\n",
       "ship_mode                object\n",
       "shipping_cost           float64\n",
       "state                    object\n",
       "unit_price              float64\n",
       "zip_code                float64\n",
       "dtype: object"
      ]
     },
     "execution_count": 16,
     "metadata": {},
     "output_type": "execute_result"
    }
   ],
   "source": [
    "df.dtypes"
   ]
  },
  {
   "cell_type": "code",
   "execution_count": 17,
   "metadata": {},
   "outputs": [
    {
     "name": "stdout",
     "output_type": "stream",
     "text": [
      "Outlier count is 124888\n"
     ]
    }
   ],
   "source": [
    "#Checking for outliers in target column\n",
    "\n",
    "#Calculating Q1 (25th percentile) and Q3 (75th percentile)\n",
    "Q1 = df['sales'].quantile(0.25)\n",
    "Q3 = df['sales'].quantile(0.75)\n",
    "\n",
    "#Calculating the IQR (Interquartile Range)\n",
    "IQR = Q3 - Q1\n",
    "\n",
    "#Defining outliers based on 1.5*IQR(Inter Quartile Range)\n",
    "lower_bound = Q1 - 1.5 * IQR\n",
    "upper_bound = Q3 + 1.5 * IQR\n",
    "\n",
    "                \n",
    "outliers = df['sales'].apply(lambda x: (x if x < lower_bound else None ) or (x if x > upper_bound else None))\n",
    "print(\"Outlier count is\",outliers.count())"
   ]
  },
  {
   "cell_type": "code",
   "execution_count": 18,
   "metadata": {},
   "outputs": [
    {
     "data": {
      "image/png": "[encoded data removed]",
      "text/plain": [
       "<Figure size 432x288 with 1 Axes>"
      ]
     },
     "metadata": {
      "needs_background": "light"
     },
     "output_type": "display_data"
    }
   ],
   "source": [
    "#Outliers using Scatter plot\n",
    "plt.scatter(df.index, df['sales'])\n",
    "plt.show()"
   ]
  },
  {
   "cell_type": "code",
   "execution_count": 19,
   "metadata": {},
   "outputs": [
    {
     "name": "stdout",
     "output_type": "stream",
     "text": [
      "-2428.95 4408.89\n"
     ]
    }
   ],
   "source": [
    "print(lower_bound,upper_bound)"
   ]
  },
  {
   "cell_type": "code",
   "execution_count": 20,
   "metadata": {},
   "outputs": [
    {
     "name": "stdout",
     "output_type": "stream",
     "text": [
      "No. of Outliers greater than upper_bound= 124888\n"
     ]
    }
   ],
   "source": [
    "grupper=(df['sales']>4408.89).sum()\n",
    "print(\"No. of Outliers greater than upper_bound=\",grupper)"
   ]
  },
  {
   "cell_type": "code",
   "execution_count": 21,
   "metadata": {},
   "outputs": [
    {
     "name": "stdout",
     "output_type": "stream",
     "text": [
      "No. of Outliers lower than lower_bound= 0\n"
     ]
    }
   ],
   "source": [
    "lrlower=(df['sales']<-2428.95).sum()\n",
    "print(\"No. of Outliers lower than lower_bound=\",lrlower)"
   ]
  },
  {
   "cell_type": "code",
   "execution_count": 22,
   "metadata": {},
   "outputs": [],
   "source": [
    "#Replacing the lower outliers by lower_bound and higher outliers by upper_bound\n",
    "df['sales'] = df['sales'].apply(lambda x: lower_bound if x < lower_bound else (upper_bound if x > upper_bound else x))"
   ]
  },
  {
   "cell_type": "code",
   "execution_count": 23,
   "metadata": {},
   "outputs": [
    {
     "data": {
      "text/html": [
       "<div>\n",
       "<style scoped>\n",
       "    .dataframe tbody tr th:only-of-type {\n",
       "        vertical-align: middle;\n",
       "    }\n",
       "\n",
       "    .dataframe tbody tr th {\n",
       "        vertical-align: top;\n",
       "    }\n",
       "\n",
       "    .dataframe thead th {\n",
       "        text-align: right;\n",
       "    }\n",
       "</style>\n",
       "<table border=\"1\" class=\"dataframe\">\n",
       "  <thead>\n",
       "    <tr style=\"text-align: right;\">\n",
       "      <th></th>\n",
       "      <th>city</th>\n",
       "      <th>customer_age</th>\n",
       "      <th>customer_name</th>\n",
       "      <th>customer_segment</th>\n",
       "      <th>discount</th>\n",
       "      <th>order_date</th>\n",
       "      <th>order_id</th>\n",
       "      <th>order_priority</th>\n",
       "      <th>order_quantity</th>\n",
       "      <th>product_base_margin</th>\n",
       "      <th>...</th>\n",
       "      <th>product_sub_category</th>\n",
       "      <th>profit</th>\n",
       "      <th>region</th>\n",
       "      <th>sales</th>\n",
       "      <th>ship_date</th>\n",
       "      <th>ship_mode</th>\n",
       "      <th>shipping_cost</th>\n",
       "      <th>state</th>\n",
       "      <th>unit_price</th>\n",
       "      <th>zip_code</th>\n",
       "    </tr>\n",
       "  </thead>\n",
       "  <tbody>\n",
       "    <tr>\n",
       "      <th>0</th>\n",
       "      <td>Stevens Point</td>\n",
       "      <td>60</td>\n",
       "      <td>Dennis Bolton</td>\n",
       "      <td>Corporate</td>\n",
       "      <td>0.17</td>\n",
       "      <td>2020-02-29</td>\n",
       "      <td>a42c8cff-5757-4e94-80b0-807538fefd25</td>\n",
       "      <td>Not Specified</td>\n",
       "      <td>7</td>\n",
       "      <td>0.55</td>\n",
       "      <td>...</td>\n",
       "      <td>Chairs &amp; Chairmats</td>\n",
       "      <td>19559.92268</td>\n",
       "      <td>Central</td>\n",
       "      <td>21.84</td>\n",
       "      <td>02-03-2020</td>\n",
       "      <td>Delivery Truck</td>\n",
       "      <td>3.772509</td>\n",
       "      <td>Wisconsin</td>\n",
       "      <td>3.29</td>\n",
       "      <td>54481.0</td>\n",
       "    </tr>\n",
       "    <tr>\n",
       "      <th>1</th>\n",
       "      <td>Stevens Point</td>\n",
       "      <td>60</td>\n",
       "      <td>Dennis Bolton</td>\n",
       "      <td>Corporate</td>\n",
       "      <td>0.17</td>\n",
       "      <td>2020-02-29</td>\n",
       "      <td>1c37f301-564f-40ff-bd7d-73a6c06ede1a</td>\n",
       "      <td>Not Specified</td>\n",
       "      <td>7</td>\n",
       "      <td>0.55</td>\n",
       "      <td>...</td>\n",
       "      <td>Chairs &amp; Chairmats</td>\n",
       "      <td>19559.92268</td>\n",
       "      <td>Central</td>\n",
       "      <td>1811.67</td>\n",
       "      <td>07-03-2020</td>\n",
       "      <td>Delivery Truck</td>\n",
       "      <td>816.340893</td>\n",
       "      <td>Wisconsin</td>\n",
       "      <td>258.98</td>\n",
       "      <td>54481.0</td>\n",
       "    </tr>\n",
       "    <tr>\n",
       "      <th>2</th>\n",
       "      <td>Grapevine</td>\n",
       "      <td>49</td>\n",
       "      <td>Anthony Garverick</td>\n",
       "      <td>Small Business</td>\n",
       "      <td>0.05</td>\n",
       "      <td>2021-11-11</td>\n",
       "      <td>ec649eae-535d-4154-b3ef-c4405bd59da9</td>\n",
       "      <td>Medium</td>\n",
       "      <td>42</td>\n",
       "      <td>0.69</td>\n",
       "      <td>...</td>\n",
       "      <td>Tables</td>\n",
       "      <td>7535.93880</td>\n",
       "      <td>Central</td>\n",
       "      <td>4408.89</td>\n",
       "      <td>15-11-2021</td>\n",
       "      <td>Delivery Truck</td>\n",
       "      <td>4530.505983</td>\n",
       "      <td>Texas</td>\n",
       "      <td>145.98</td>\n",
       "      <td>76051.0</td>\n",
       "    </tr>\n",
       "    <tr>\n",
       "      <th>3</th>\n",
       "      <td>Tempe</td>\n",
       "      <td>30</td>\n",
       "      <td>Anne McFarland</td>\n",
       "      <td>Consumer</td>\n",
       "      <td>0.05</td>\n",
       "      <td>2020-08-02</td>\n",
       "      <td>efdcbace-5320-4005-95e2-4c94a896dc8c</td>\n",
       "      <td>Not Specified</td>\n",
       "      <td>30</td>\n",
       "      <td>0.37</td>\n",
       "      <td>...</td>\n",
       "      <td>Paper</td>\n",
       "      <td>18860.92419</td>\n",
       "      <td>West</td>\n",
       "      <td>198.90</td>\n",
       "      <td>08-08-2020</td>\n",
       "      <td>Regular Air</td>\n",
       "      <td>128.731505</td>\n",
       "      <td>Arizona</td>\n",
       "      <td>6.68</td>\n",
       "      <td>85281.0</td>\n",
       "    </tr>\n",
       "    <tr>\n",
       "      <th>4</th>\n",
       "      <td>Upper Arlington</td>\n",
       "      <td>84</td>\n",
       "      <td>Sara Luxemburg</td>\n",
       "      <td>Corporate</td>\n",
       "      <td>0.25</td>\n",
       "      <td>2020-09-26</td>\n",
       "      <td>6b88eca0-426a-4fd4-83c6-1657c43f94a0</td>\n",
       "      <td>High</td>\n",
       "      <td>31</td>\n",
       "      <td>0.77</td>\n",
       "      <td>...</td>\n",
       "      <td>Computer Peripherals</td>\n",
       "      <td>20175.51620</td>\n",
       "      <td>East</td>\n",
       "      <td>243.97</td>\n",
       "      <td>30-09-2020</td>\n",
       "      <td>Express Air</td>\n",
       "      <td>17.811073</td>\n",
       "      <td>Ohio</td>\n",
       "      <td>8.12</td>\n",
       "      <td>43221.0</td>\n",
       "    </tr>\n",
       "  </tbody>\n",
       "</table>\n",
       "<p>5 rows × 23 columns</p>\n",
       "</div>"
      ],
      "text/plain": [
       "              city  customer_age      customer_name customer_segment  \\\n",
       "0    Stevens Point            60      Dennis Bolton        Corporate   \n",
       "1    Stevens Point            60      Dennis Bolton        Corporate   \n",
       "2        Grapevine            49  Anthony Garverick   Small Business   \n",
       "3            Tempe            30     Anne McFarland         Consumer   \n",
       "4  Upper Arlington            84     Sara Luxemburg        Corporate   \n",
       "\n",
       "   discount  order_date                              order_id order_priority  \\\n",
       "0      0.17  2020-02-29  a42c8cff-5757-4e94-80b0-807538fefd25  Not Specified   \n",
       "1      0.17  2020-02-29  1c37f301-564f-40ff-bd7d-73a6c06ede1a  Not Specified   \n",
       "2      0.05  2021-11-11  ec649eae-535d-4154-b3ef-c4405bd59da9         Medium   \n",
       "3      0.05  2020-08-02  efdcbace-5320-4005-95e2-4c94a896dc8c  Not Specified   \n",
       "4      0.25  2020-09-26  6b88eca0-426a-4fd4-83c6-1657c43f94a0           High   \n",
       "\n",
       "   order_quantity  product_base_margin  ...  product_sub_category  \\\n",
       "0               7                 0.55  ...    Chairs & Chairmats   \n",
       "1               7                 0.55  ...    Chairs & Chairmats   \n",
       "2              42                 0.69  ...                Tables   \n",
       "3              30                 0.37  ...                 Paper   \n",
       "4              31                 0.77  ...  Computer Peripherals   \n",
       "\n",
       "        profit   region    sales   ship_date       ship_mode  shipping_cost  \\\n",
       "0  19559.92268  Central    21.84  02-03-2020  Delivery Truck       3.772509   \n",
       "1  19559.92268  Central  1811.67  07-03-2020  Delivery Truck     816.340893   \n",
       "2   7535.93880  Central  4408.89  15-11-2021  Delivery Truck    4530.505983   \n",
       "3  18860.92419     West   198.90  08-08-2020     Regular Air     128.731505   \n",
       "4  20175.51620     East   243.97  30-09-2020     Express Air      17.811073   \n",
       "\n",
       "       state unit_price  zip_code  \n",
       "0  Wisconsin       3.29   54481.0  \n",
       "1  Wisconsin     258.98   54481.0  \n",
       "2      Texas     145.98   76051.0  \n",
       "3    Arizona       6.68   85281.0  \n",
       "4       Ohio       8.12   43221.0  \n",
       "\n",
       "[5 rows x 23 columns]"
      ]
     },
     "execution_count": 23,
     "metadata": {},
     "output_type": "execute_result"
    }
   ],
   "source": [
    "df.head()"
   ]
  },
  {
   "cell_type": "code",
   "execution_count": 24,
   "metadata": {},
   "outputs": [
    {
     "name": "stdout",
     "output_type": "stream",
     "text": [
      "No. of Outliers greater than upper_bound= 0\n"
     ]
    }
   ],
   "source": [
    "grupper1=(df['sales']>4408.89).sum()\n",
    "print(\"No. of Outliers greater than upper_bound=\",grupper1)"
   ]
  },
  {
   "cell_type": "code",
   "execution_count": 25,
   "metadata": {},
   "outputs": [],
   "source": [
    "# Convert 'order_date' to datetime\n",
    "df['order_date'] = pd.to_datetime(df['order_date'])"
   ]
  },
  {
   "cell_type": "code",
   "execution_count": 26,
   "metadata": {},
   "outputs": [
    {
     "data": {
      "text/html": [
       "<div>\n",
       "<style scoped>\n",
       "    .dataframe tbody tr th:only-of-type {\n",
       "        vertical-align: middle;\n",
       "    }\n",
       "\n",
       "    .dataframe tbody tr th {\n",
       "        vertical-align: top;\n",
       "    }\n",
       "\n",
       "    .dataframe thead th {\n",
       "        text-align: right;\n",
       "    }\n",
       "</style>\n",
       "<table border=\"1\" class=\"dataframe\">\n",
       "  <thead>\n",
       "    <tr style=\"text-align: right;\">\n",
       "      <th></th>\n",
       "      <th>city</th>\n",
       "      <th>customer_age</th>\n",
       "      <th>customer_name</th>\n",
       "      <th>customer_segment</th>\n",
       "      <th>discount</th>\n",
       "      <th>order_date</th>\n",
       "      <th>order_id</th>\n",
       "      <th>order_priority</th>\n",
       "      <th>order_quantity</th>\n",
       "      <th>product_base_margin</th>\n",
       "      <th>...</th>\n",
       "      <th>region</th>\n",
       "      <th>sales</th>\n",
       "      <th>ship_date</th>\n",
       "      <th>ship_mode</th>\n",
       "      <th>shipping_cost</th>\n",
       "      <th>state</th>\n",
       "      <th>unit_price</th>\n",
       "      <th>zip_code</th>\n",
       "      <th>year</th>\n",
       "      <th>month</th>\n",
       "    </tr>\n",
       "  </thead>\n",
       "  <tbody>\n",
       "    <tr>\n",
       "      <th>0</th>\n",
       "      <td>Stevens Point</td>\n",
       "      <td>60</td>\n",
       "      <td>Dennis Bolton</td>\n",
       "      <td>Corporate</td>\n",
       "      <td>0.17</td>\n",
       "      <td>2020-02-29</td>\n",
       "      <td>a42c8cff-5757-4e94-80b0-807538fefd25</td>\n",
       "      <td>Not Specified</td>\n",
       "      <td>7</td>\n",
       "      <td>0.55</td>\n",
       "      <td>...</td>\n",
       "      <td>Central</td>\n",
       "      <td>21.84</td>\n",
       "      <td>02-03-2020</td>\n",
       "      <td>Delivery Truck</td>\n",
       "      <td>3.772509</td>\n",
       "      <td>Wisconsin</td>\n",
       "      <td>3.29</td>\n",
       "      <td>54481.0</td>\n",
       "      <td>2020</td>\n",
       "      <td>2</td>\n",
       "    </tr>\n",
       "    <tr>\n",
       "      <th>1</th>\n",
       "      <td>Stevens Point</td>\n",
       "      <td>60</td>\n",
       "      <td>Dennis Bolton</td>\n",
       "      <td>Corporate</td>\n",
       "      <td>0.17</td>\n",
       "      <td>2020-02-29</td>\n",
       "      <td>1c37f301-564f-40ff-bd7d-73a6c06ede1a</td>\n",
       "      <td>Not Specified</td>\n",
       "      <td>7</td>\n",
       "      <td>0.55</td>\n",
       "      <td>...</td>\n",
       "      <td>Central</td>\n",
       "      <td>1811.67</td>\n",
       "      <td>07-03-2020</td>\n",
       "      <td>Delivery Truck</td>\n",
       "      <td>816.340893</td>\n",
       "      <td>Wisconsin</td>\n",
       "      <td>258.98</td>\n",
       "      <td>54481.0</td>\n",
       "      <td>2020</td>\n",
       "      <td>2</td>\n",
       "    </tr>\n",
       "    <tr>\n",
       "      <th>2</th>\n",
       "      <td>Grapevine</td>\n",
       "      <td>49</td>\n",
       "      <td>Anthony Garverick</td>\n",
       "      <td>Small Business</td>\n",
       "      <td>0.05</td>\n",
       "      <td>2021-11-11</td>\n",
       "      <td>ec649eae-535d-4154-b3ef-c4405bd59da9</td>\n",
       "      <td>Medium</td>\n",
       "      <td>42</td>\n",
       "      <td>0.69</td>\n",
       "      <td>...</td>\n",
       "      <td>Central</td>\n",
       "      <td>4408.89</td>\n",
       "      <td>15-11-2021</td>\n",
       "      <td>Delivery Truck</td>\n",
       "      <td>4530.505983</td>\n",
       "      <td>Texas</td>\n",
       "      <td>145.98</td>\n",
       "      <td>76051.0</td>\n",
       "      <td>2021</td>\n",
       "      <td>11</td>\n",
       "    </tr>\n",
       "    <tr>\n",
       "      <th>3</th>\n",
       "      <td>Tempe</td>\n",
       "      <td>30</td>\n",
       "      <td>Anne McFarland</td>\n",
       "      <td>Consumer</td>\n",
       "      <td>0.05</td>\n",
       "      <td>2020-08-02</td>\n",
       "      <td>efdcbace-5320-4005-95e2-4c94a896dc8c</td>\n",
       "      <td>Not Specified</td>\n",
       "      <td>30</td>\n",
       "      <td>0.37</td>\n",
       "      <td>...</td>\n",
       "      <td>West</td>\n",
       "      <td>198.90</td>\n",
       "      <td>08-08-2020</td>\n",
       "      <td>Regular Air</td>\n",
       "      <td>128.731505</td>\n",
       "      <td>Arizona</td>\n",
       "      <td>6.68</td>\n",
       "      <td>85281.0</td>\n",
       "      <td>2020</td>\n",
       "      <td>8</td>\n",
       "    </tr>\n",
       "    <tr>\n",
       "      <th>4</th>\n",
       "      <td>Upper Arlington</td>\n",
       "      <td>84</td>\n",
       "      <td>Sara Luxemburg</td>\n",
       "      <td>Corporate</td>\n",
       "      <td>0.25</td>\n",
       "      <td>2020-09-26</td>\n",
       "      <td>6b88eca0-426a-4fd4-83c6-1657c43f94a0</td>\n",
       "      <td>High</td>\n",
       "      <td>31</td>\n",
       "      <td>0.77</td>\n",
       "      <td>...</td>\n",
       "      <td>East</td>\n",
       "      <td>243.97</td>\n",
       "      <td>30-09-2020</td>\n",
       "      <td>Express Air</td>\n",
       "      <td>17.811073</td>\n",
       "      <td>Ohio</td>\n",
       "      <td>8.12</td>\n",
       "      <td>43221.0</td>\n",
       "      <td>2020</td>\n",
       "      <td>9</td>\n",
       "    </tr>\n",
       "  </tbody>\n",
       "</table>\n",
       "<p>5 rows × 25 columns</p>\n",
       "</div>"
      ],
      "text/plain": [
       "              city  customer_age      customer_name customer_segment  \\\n",
       "0    Stevens Point            60      Dennis Bolton        Corporate   \n",
       "1    Stevens Point            60      Dennis Bolton        Corporate   \n",
       "2        Grapevine            49  Anthony Garverick   Small Business   \n",
       "3            Tempe            30     Anne McFarland         Consumer   \n",
       "4  Upper Arlington            84     Sara Luxemburg        Corporate   \n",
       "\n",
       "   discount order_date                              order_id order_priority  \\\n",
       "0      0.17 2020-02-29  a42c8cff-5757-4e94-80b0-807538fefd25  Not Specified   \n",
       "1      0.17 2020-02-29  1c37f301-564f-40ff-bd7d-73a6c06ede1a  Not Specified   \n",
       "2      0.05 2021-11-11  ec649eae-535d-4154-b3ef-c4405bd59da9         Medium   \n",
       "3      0.05 2020-08-02  efdcbace-5320-4005-95e2-4c94a896dc8c  Not Specified   \n",
       "4      0.25 2020-09-26  6b88eca0-426a-4fd4-83c6-1657c43f94a0           High   \n",
       "\n",
       "   order_quantity  product_base_margin  ...   region    sales   ship_date  \\\n",
       "0               7                 0.55  ...  Central    21.84  02-03-2020   \n",
       "1               7                 0.55  ...  Central  1811.67  07-03-2020   \n",
       "2              42                 0.69  ...  Central  4408.89  15-11-2021   \n",
       "3              30                 0.37  ...     West   198.90  08-08-2020   \n",
       "4              31                 0.77  ...     East   243.97  30-09-2020   \n",
       "\n",
       "        ship_mode  shipping_cost      state  unit_price zip_code  year  month  \n",
       "0  Delivery Truck       3.772509  Wisconsin        3.29  54481.0  2020      2  \n",
       "1  Delivery Truck     816.340893  Wisconsin      258.98  54481.0  2020      2  \n",
       "2  Delivery Truck    4530.505983      Texas      145.98  76051.0  2021     11  \n",
       "3     Regular Air     128.731505    Arizona        6.68  85281.0  2020      8  \n",
       "4     Express Air      17.811073       Ohio        8.12  43221.0  2020      9  \n",
       "\n",
       "[5 rows x 25 columns]"
      ]
     },
     "execution_count": 26,
     "metadata": {},
     "output_type": "execute_result"
    }
   ],
   "source": [
    "# Extract year and month from 'order_date'\n",
    "df['year'] = df['order_date'].dt.year\n",
    "df['month'] = df['order_date'].dt.month\n",
    "\n",
    "# Display the updated dataframe\n",
    "df.head()"
   ]
  },
  {
   "cell_type": "code",
   "execution_count": 27,
   "metadata": {},
   "outputs": [
    {
     "data": {
      "image/png": "[encoded data removed]",
      "text/plain": [
       "<Figure size 864x432 with 1 Axes>"
      ]
     },
     "metadata": {
      "needs_background": "light"
     },
     "output_type": "display_data"
    }
   ],
   "source": [
    "# Group by year and month, then sum the sales\n",
    "sales_over_time = df.groupby(['year', 'month'])['sales'].sum().reset_index()\n",
    "\n",
    "# Create a date column for plotting\n",
    "sales_over_time['date'] = pd.to_datetime(sales_over_time[['year', 'month']].assign(day=1))\n",
    "\n",
    "# Plot sales over time\n",
    "plt.figure(figsize=(12, 6))\n",
    "sns.lineplot(data=sales_over_time, x='date', y='sales')\n",
    "plt.title('Sales Over Time')\n",
    "plt.xlabel('Date')\n",
    "plt.ylabel('Total Sales')\n",
    "plt.show()"
   ]
  },
  {
   "cell_type": "code",
   "execution_count": 28,
   "metadata": {},
   "outputs": [
    {
     "data": {
      "image/png": "[encoded data removed]",
      "text/plain": [
       "<Figure size 720x432 with 1 Axes>"
      ]
     },
     "metadata": {
      "needs_background": "light"
     },
     "output_type": "display_data"
    }
   ],
   "source": [
    "#Group by region and sum the sales\n",
    "sales_by_region = df.groupby('region')['sales'].sum().sort_values(ascending=False)\n",
    "\n",
    "#Plot sales by region\n",
    "plt.figure(figsize=(10, 6))\n",
    "sns.barplot(x=sales_by_region.index, y=sales_by_region.values)\n",
    "plt.title('Sales by Region')\n",
    "plt.xlabel('Region')\n",
    "plt.ylabel('Total Sales')\n",
    "plt.show()"
   ]
  },
  {
   "cell_type": "code",
   "execution_count": 29,
   "metadata": {},
   "outputs": [
    {
     "data": {
      "image/png": "[encoded data removed]",
      "text/plain": [
       "<Figure size 720x432 with 1 Axes>"
      ]
     },
     "metadata": {
      "needs_background": "light"
     },
     "output_type": "display_data"
    }
   ],
   "source": [
    "# Group by product category and sum the sales\n",
    "sales_by_category = df.groupby('product_category')['sales'].sum().sort_values(ascending=False)\n",
    "\n",
    "# Plot sales by product category\n",
    "plt.figure(figsize=(10, 6))\n",
    "sns.barplot(x=sales_by_category.index, y=sales_by_category.values)\n",
    "plt.title('Sales by Product Category')\n",
    "plt.xlabel('Product Category')\n",
    "plt.ylabel('Total Sales')\n",
    "plt.show()"
   ]
  },
  {
   "cell_type": "code",
   "execution_count": 30,
   "metadata": {},
   "outputs": [
    {
     "data": {
      "image/png": "[encoded data removed]",
      "text/plain": [
       "<Figure size 1800x1008 with 1 Axes>"
      ]
     },
     "metadata": {
      "needs_background": "light"
     },
     "output_type": "display_data"
    }
   ],
   "source": [
    "# Group by product category and sum the sales\n",
    "sales_by_category = df.groupby('product_sub_category')['sales'].sum().sort_values(ascending=False)\n",
    "\n",
    "# Plot sales by product category\n",
    "plt.figure(figsize=(25, 14))\n",
    "sns.barplot(x=sales_by_category.index, y=sales_by_category.values)\n",
    "plt.title('Sales by Product sub category')\n",
    "plt.xlabel('Product sub category')\n",
    "plt.ylabel('Total Sales')\n",
    "plt.show()"
   ]
  },
  {
   "cell_type": "markdown",
   "metadata": {},
   "source": [
    "## the counts of categorical variables"
   ]
  },
  {
   "cell_type": "code",
   "execution_count": 31,
   "metadata": {},
   "outputs": [
    {
     "data": {
      "image/png": "[encoded data removed]",
      "text/plain": [
       "<Figure size 432x288 with 1 Axes>"
      ]
     },
     "metadata": {
      "needs_background": "light"
     },
     "output_type": "display_data"
    }
   ],
   "source": [
    "sns.countplot(y=df['product_category'])\n",
    "plt.show()"
   ]
  },
  {
   "cell_type": "code",
   "execution_count": 32,
   "metadata": {},
   "outputs": [
    {
     "data": {
      "image/png": "[encoded data removed]",
      "text/plain": [
       "<Figure size 720x576 with 2 Axes>"
      ]
     },
     "metadata": {
      "needs_background": "light"
     },
     "output_type": "display_data"
    }
   ],
   "source": [
    "corr = df.corr()\n",
    "plt.figure(figsize=(10, 8))\n",
    "sns.heatmap(corr, annot=True, fmt=\".2f\", cmap='coolwarm', vmin=-1, vmax=1)\n",
    "plt.title('Correlation Heatmap')\n",
    "plt.show()"
   ]
  },
  {
   "cell_type": "code",
   "execution_count": 33,
   "metadata": {},
   "outputs": [
    {
     "data": {
      "image/png": "[encoded data removed]",
      "text/plain": [
       "<Figure size 432x288 with 1 Axes>"
      ]
     },
     "metadata": {
      "needs_background": "light"
     },
     "output_type": "display_data"
    }
   ],
   "source": [
    "sns.boxplot(x='customer_segment', y='profit', data=df)\n",
    "plt.show()"
   ]
  },
  {
   "cell_type": "code",
   "execution_count": 34,
   "metadata": {},
   "outputs": [
    {
     "name": "stdout",
     "output_type": "stream",
     "text": [
      "  product_category         sales\n",
      "0        Furniture  4.132295e+08\n",
      "1  Office Supplies  3.556334e+08\n",
      "2       Technology  4.776706e+08\n"
     ]
    }
   ],
   "source": [
    "sales_by_category = df.groupby('product_category')['sales'].sum().reset_index()\n",
    "print(sales_by_category)"
   ]
  },
  {
   "cell_type": "code",
   "execution_count": 35,
   "metadata": {},
   "outputs": [
    {
     "name": "stdout",
     "output_type": "stream",
     "text": [
      "              product_sub_category         sales\n",
      "0                       Appliances  8.223397e+07\n",
      "1   Binders and Binder Accessories  7.487542e+07\n",
      "2                        Bookcases  6.745736e+07\n",
      "3               Chairs & Chairmats  1.152284e+08\n",
      "4             Computer Peripherals  8.282529e+07\n",
      "5                  Copiers and Fax  4.061242e+07\n",
      "6                        Envelopes  1.766837e+07\n",
      "7                           Labels  5.850504e+06\n",
      "8               Office Furnishings  9.315267e+07\n",
      "9                  Office Machines  1.317205e+08\n",
      "10                           Paper  5.530810e+07\n",
      "11             Pens & Art Supplies  1.866939e+07\n",
      "12                    Rubber Bands  1.849027e+06\n",
      "13   Scissors, Rulers and Trimmers  1.015753e+07\n",
      "14          Storage & Organization  8.902114e+07\n",
      "15                          Tables  1.373910e+08\n",
      "16    Telephones and Communication  2.225124e+08\n"
     ]
    }
   ],
   "source": [
    "sales_by_product_sub_category = df.groupby('product_sub_category')['sales'].sum().reset_index()\n",
    "print(sales_by_product_sub_category)"
   ]
  },
  {
   "cell_type": "code",
   "execution_count": 36,
   "metadata": {},
   "outputs": [
    {
     "name": "stdout",
     "output_type": "stream",
     "text": [
      "Unique count: 127203\n"
     ]
    }
   ],
   "source": [
    "unique_count = df['sales'].nunique()\n",
    "print(f\"Unique count: {unique_count}\")"
   ]
  },
  {
   "cell_type": "code",
   "execution_count": 37,
   "metadata": {},
   "outputs": [
    {
     "name": "stdout",
     "output_type": "stream",
     "text": [
      "Maximum value: 4408.89\n"
     ]
    }
   ],
   "source": [
    "max_value = df['sales'].max()\n",
    "print(f\"Maximum value: {max_value}\")"
   ]
  },
  {
   "cell_type": "code",
   "execution_count": 38,
   "metadata": {},
   "outputs": [
    {
     "name": "stdout",
     "output_type": "stream",
     "text": [
      "Minimum value: 0.76\n"
     ]
    }
   ],
   "source": [
    "min_value = df['sales'].min()\n",
    "print(f\"Minimum value: {min_value}\")"
   ]
  },
  {
   "cell_type": "code",
   "execution_count": null,
   "metadata": {},
   "outputs": [],
   "source": []
  }
 ],
 "metadata": {
  "kernelspec": {
   "display_name": "Python 3",
   "language": "python",
   "name": "python3"
  },
  "language_info": {
   "codemirror_mode": {
    "name": "ipython",
    "version": 3
   },
   "file_extension": ".py",
   "mimetype": "text/x-python",
   "name": "python",
   "nbconvert_exporter": "python",
   "pygments_lexer": "ipython3",
   "version": "3.8.5"
  }
 },
 "nbformat": 4,
 "nbformat_minor": 4
}
