{
 "cells": [
  {
   "cell_type": "markdown",
   "id": "a89897ad",
   "metadata": {},
   "source": [
    "# Importing the libraries and loading the data"
   ]
  },
  {
   "cell_type": "code",
   "execution_count": 1,
   "id": "f9bf51d5",
   "metadata": {},
   "outputs": [],
   "source": [
    "import pandas as pd\n",
    "import matplotlib.pyplot as plt\n",
    "import numpy as np\n",
    "\n",
    "\n",
    "df = pd.read_csv('final_file.csv', parse_dates=['order_date'])"
   ]
  },
  {
   "cell_type": "markdown",
   "id": "2f09247a",
   "metadata": {},
   "source": [
    "# Renaming the columns as per model requirement."
   ]
  },
  {
   "cell_type": "code",
   "execution_count": 2,
   "id": "bc300e3d",
   "metadata": {},
   "outputs": [
    {
     "data": {
      "text/plain": [
       "city                            object\n",
       "customer_age                     int64\n",
       "customer_name                   object\n",
       "customer_segment                object\n",
       "discount                       float64\n",
       "ds                      datetime64[ns]\n",
       "order_id                        object\n",
       "order_priority                  object\n",
       "order_quantity                   int64\n",
       "product_base_margin            float64\n",
       "product_category                object\n",
       "product_container               object\n",
       "product_name                    object\n",
       "product_sub_category            object\n",
       "profit                         float64\n",
       "region                          object\n",
       "y                              float64\n",
       "ship_date                       object\n",
       "ship_mode                       object\n",
       "shipping_cost                  float64\n",
       "state                           object\n",
       "unit_price                     float64\n",
       "zip_code                       float64\n",
       "dtype: object"
      ]
     },
     "execution_count": 2,
     "metadata": {},
     "output_type": "execute_result"
    }
   ],
   "source": [
    "df = df.rename(columns={'order_date': 'ds', 'sales': 'y'})\n",
    "\n",
    "\n",
    "df.dtypes"
   ]
  },
  {
   "cell_type": "code",
   "execution_count": 3,
   "id": "d914e8ac",
   "metadata": {},
   "outputs": [
    {
     "data": {
      "text/plain": [
       "city                    1009318\n",
       "customer_age            1009318\n",
       "customer_name           1009318\n",
       "customer_segment        1009318\n",
       "discount                1009318\n",
       "ds                      1009318\n",
       "order_id                1009318\n",
       "order_priority          1009318\n",
       "order_quantity          1009318\n",
       "product_base_margin     1009318\n",
       "product_category        1009318\n",
       "product_container       1009318\n",
       "product_name            1009318\n",
       "product_sub_category    1009318\n",
       "profit                  1009318\n",
       "region                  1009318\n",
       "y                       1009318\n",
       "ship_date               1009318\n",
       "ship_mode               1009318\n",
       "shipping_cost           1009318\n",
       "state                   1009318\n",
       "unit_price              1009318\n",
       "zip_code                1009318\n",
       "dtype: int64"
      ]
     },
     "execution_count": 3,
     "metadata": {},
     "output_type": "execute_result"
    }
   ],
   "source": [
    "df.count()"
   ]
  },
  {
   "cell_type": "markdown",
   "id": "5acf2f2e",
   "metadata": {},
   "source": [
    "# Outliers handling"
   ]
  },
  {
   "cell_type": "code",
   "execution_count": 4,
   "id": "2340128c",
   "metadata": {},
   "outputs": [
    {
     "name": "stdout",
     "output_type": "stream",
     "text": [
      "Outlier count is 124888\n"
     ]
    }
   ],
   "source": [
    "# Calculating Q1 (25th percentile) and Q3 (75th percentile)\n",
    "Q1 = df['y'].quantile(0.25)\n",
    "Q3 = df['y'].quantile(0.75)\n",
    "\n",
    "# Calculating the IQR (Interquartile Range)\n",
    "IQR = Q3 - Q1\n",
    "\n",
    "# Defining outliers based on 1.5*IQR(Inter Quartile Range)\n",
    "lower_bound = Q1 - 1.5 * IQR\n",
    "upper_bound = Q3 + 1.5 * IQR\n",
    "\n",
    "df_outlier = df['y'].apply(lambda x: (x if x < lower_bound else None ) or (x if x > upper_bound else None))\n",
    "\n",
    "print(\"Outlier count is\",df_outlier.count())"
   ]
  },
  {
   "cell_type": "code",
   "execution_count": 5,
   "id": "5175d0da",
   "metadata": {},
   "outputs": [
    {
     "name": "stdout",
     "output_type": "stream",
     "text": [
      "-2428.95 4408.89\n"
     ]
    }
   ],
   "source": [
    "print(lower_bound,upper_bound)"
   ]
  },
  {
   "cell_type": "markdown",
   "id": "fe8cf5a1",
   "metadata": {},
   "source": [
    "# Finding the count of outliers lying above and below the bounds"
   ]
  },
  {
   "cell_type": "code",
   "execution_count": 6,
   "id": "bee31df5",
   "metadata": {},
   "outputs": [
    {
     "name": "stdout",
     "output_type": "stream",
     "text": [
      "No. of Outliers greater than upper_bound= 124888\n"
     ]
    }
   ],
   "source": [
    "grupper=(df['y']>4408.89).sum()\n",
    "print(\"No. of Outliers greater than upper_bound=\",grupper)"
   ]
  },
  {
   "cell_type": "code",
   "execution_count": 7,
   "id": "682ef7c8",
   "metadata": {},
   "outputs": [
    {
     "name": "stdout",
     "output_type": "stream",
     "text": [
      "No. of Outliers lower than lower_bound= 0\n"
     ]
    }
   ],
   "source": [
    "lrlower=(df['y']<-2428.95).sum()\n",
    "print(\"No. of Outliers lower than lower_bound=\",lrlower)"
   ]
  },
  {
   "cell_type": "markdown",
   "id": "05cc44ce",
   "metadata": {},
   "source": [
    "# Handling outliers"
   ]
  },
  {
   "cell_type": "markdown",
   "id": "ef51fd29",
   "metadata": {},
   "source": [
    "## Replacing the lower outliers by lower_bound and higher outliers by upper_bound"
   ]
  },
  {
   "cell_type": "code",
   "execution_count": 8,
   "id": "5ba95ea1",
   "metadata": {},
   "outputs": [
    {
     "data": {
      "text/html": [
       "<div>\n",
       "<style scoped>\n",
       "    .dataframe tbody tr th:only-of-type {\n",
       "        vertical-align: middle;\n",
       "    }\n",
       "\n",
       "    .dataframe tbody tr th {\n",
       "        vertical-align: top;\n",
       "    }\n",
       "\n",
       "    .dataframe thead th {\n",
       "        text-align: right;\n",
       "    }\n",
       "</style>\n",
       "<table border=\"1\" class=\"dataframe\">\n",
       "  <thead>\n",
       "    <tr style=\"text-align: right;\">\n",
       "      <th></th>\n",
       "      <th>city</th>\n",
       "      <th>customer_age</th>\n",
       "      <th>customer_name</th>\n",
       "      <th>customer_segment</th>\n",
       "      <th>discount</th>\n",
       "      <th>ds</th>\n",
       "      <th>order_id</th>\n",
       "      <th>order_priority</th>\n",
       "      <th>order_quantity</th>\n",
       "      <th>product_base_margin</th>\n",
       "      <th>...</th>\n",
       "      <th>product_sub_category</th>\n",
       "      <th>profit</th>\n",
       "      <th>region</th>\n",
       "      <th>y</th>\n",
       "      <th>ship_date</th>\n",
       "      <th>ship_mode</th>\n",
       "      <th>shipping_cost</th>\n",
       "      <th>state</th>\n",
       "      <th>unit_price</th>\n",
       "      <th>zip_code</th>\n",
       "    </tr>\n",
       "  </thead>\n",
       "  <tbody>\n",
       "    <tr>\n",
       "      <th>0</th>\n",
       "      <td>Stevens Point</td>\n",
       "      <td>60</td>\n",
       "      <td>Dennis Bolton</td>\n",
       "      <td>Corporate</td>\n",
       "      <td>0.17</td>\n",
       "      <td>2020-02-29</td>\n",
       "      <td>a42c8cff-5757-4e94-80b0-807538fefd25</td>\n",
       "      <td>Not Specified</td>\n",
       "      <td>7</td>\n",
       "      <td>0.55</td>\n",
       "      <td>...</td>\n",
       "      <td>Chairs &amp; Chairmats</td>\n",
       "      <td>19559.92268</td>\n",
       "      <td>Central</td>\n",
       "      <td>21.84</td>\n",
       "      <td>02-03-2020</td>\n",
       "      <td>Delivery Truck</td>\n",
       "      <td>3.772509</td>\n",
       "      <td>Wisconsin</td>\n",
       "      <td>3.29</td>\n",
       "      <td>54481.0</td>\n",
       "    </tr>\n",
       "    <tr>\n",
       "      <th>1</th>\n",
       "      <td>Stevens Point</td>\n",
       "      <td>60</td>\n",
       "      <td>Dennis Bolton</td>\n",
       "      <td>Corporate</td>\n",
       "      <td>0.17</td>\n",
       "      <td>2020-02-29</td>\n",
       "      <td>1c37f301-564f-40ff-bd7d-73a6c06ede1a</td>\n",
       "      <td>Not Specified</td>\n",
       "      <td>7</td>\n",
       "      <td>0.55</td>\n",
       "      <td>...</td>\n",
       "      <td>Chairs &amp; Chairmats</td>\n",
       "      <td>19559.92268</td>\n",
       "      <td>Central</td>\n",
       "      <td>1811.67</td>\n",
       "      <td>07-03-2020</td>\n",
       "      <td>Delivery Truck</td>\n",
       "      <td>816.340893</td>\n",
       "      <td>Wisconsin</td>\n",
       "      <td>258.98</td>\n",
       "      <td>54481.0</td>\n",
       "    </tr>\n",
       "    <tr>\n",
       "      <th>2</th>\n",
       "      <td>Grapevine</td>\n",
       "      <td>49</td>\n",
       "      <td>Anthony Garverick</td>\n",
       "      <td>Small Business</td>\n",
       "      <td>0.05</td>\n",
       "      <td>2021-11-11</td>\n",
       "      <td>ec649eae-535d-4154-b3ef-c4405bd59da9</td>\n",
       "      <td>Medium</td>\n",
       "      <td>42</td>\n",
       "      <td>0.69</td>\n",
       "      <td>...</td>\n",
       "      <td>Tables</td>\n",
       "      <td>7535.93880</td>\n",
       "      <td>Central</td>\n",
       "      <td>4408.89</td>\n",
       "      <td>15-11-2021</td>\n",
       "      <td>Delivery Truck</td>\n",
       "      <td>4530.505983</td>\n",
       "      <td>Texas</td>\n",
       "      <td>145.98</td>\n",
       "      <td>76051.0</td>\n",
       "    </tr>\n",
       "    <tr>\n",
       "      <th>3</th>\n",
       "      <td>Tempe</td>\n",
       "      <td>30</td>\n",
       "      <td>Anne McFarland</td>\n",
       "      <td>Consumer</td>\n",
       "      <td>0.05</td>\n",
       "      <td>2020-08-02</td>\n",
       "      <td>efdcbace-5320-4005-95e2-4c94a896dc8c</td>\n",
       "      <td>Not Specified</td>\n",
       "      <td>30</td>\n",
       "      <td>0.37</td>\n",
       "      <td>...</td>\n",
       "      <td>Paper</td>\n",
       "      <td>18860.92419</td>\n",
       "      <td>West</td>\n",
       "      <td>198.90</td>\n",
       "      <td>08-08-2020</td>\n",
       "      <td>Regular Air</td>\n",
       "      <td>128.731505</td>\n",
       "      <td>Arizona</td>\n",
       "      <td>6.68</td>\n",
       "      <td>85281.0</td>\n",
       "    </tr>\n",
       "    <tr>\n",
       "      <th>4</th>\n",
       "      <td>Upper Arlington</td>\n",
       "      <td>84</td>\n",
       "      <td>Sara Luxemburg</td>\n",
       "      <td>Corporate</td>\n",
       "      <td>0.25</td>\n",
       "      <td>2020-09-26</td>\n",
       "      <td>6b88eca0-426a-4fd4-83c6-1657c43f94a0</td>\n",
       "      <td>High</td>\n",
       "      <td>31</td>\n",
       "      <td>0.77</td>\n",
       "      <td>...</td>\n",
       "      <td>Computer Peripherals</td>\n",
       "      <td>20175.51620</td>\n",
       "      <td>East</td>\n",
       "      <td>243.97</td>\n",
       "      <td>30-09-2020</td>\n",
       "      <td>Express Air</td>\n",
       "      <td>17.811073</td>\n",
       "      <td>Ohio</td>\n",
       "      <td>8.12</td>\n",
       "      <td>43221.0</td>\n",
       "    </tr>\n",
       "  </tbody>\n",
       "</table>\n",
       "<p>5 rows × 23 columns</p>\n",
       "</div>"
      ],
      "text/plain": [
       "              city  customer_age      customer_name customer_segment  \\\n",
       "0    Stevens Point            60      Dennis Bolton        Corporate   \n",
       "1    Stevens Point            60      Dennis Bolton        Corporate   \n",
       "2        Grapevine            49  Anthony Garverick   Small Business   \n",
       "3            Tempe            30     Anne McFarland         Consumer   \n",
       "4  Upper Arlington            84     Sara Luxemburg        Corporate   \n",
       "\n",
       "   discount         ds                              order_id order_priority  \\\n",
       "0      0.17 2020-02-29  a42c8cff-5757-4e94-80b0-807538fefd25  Not Specified   \n",
       "1      0.17 2020-02-29  1c37f301-564f-40ff-bd7d-73a6c06ede1a  Not Specified   \n",
       "2      0.05 2021-11-11  ec649eae-535d-4154-b3ef-c4405bd59da9         Medium   \n",
       "3      0.05 2020-08-02  efdcbace-5320-4005-95e2-4c94a896dc8c  Not Specified   \n",
       "4      0.25 2020-09-26  6b88eca0-426a-4fd4-83c6-1657c43f94a0           High   \n",
       "\n",
       "   order_quantity  product_base_margin  ...  product_sub_category  \\\n",
       "0               7                 0.55  ...    Chairs & Chairmats   \n",
       "1               7                 0.55  ...    Chairs & Chairmats   \n",
       "2              42                 0.69  ...                Tables   \n",
       "3              30                 0.37  ...                 Paper   \n",
       "4              31                 0.77  ...  Computer Peripherals   \n",
       "\n",
       "        profit   region        y   ship_date       ship_mode  shipping_cost  \\\n",
       "0  19559.92268  Central    21.84  02-03-2020  Delivery Truck       3.772509   \n",
       "1  19559.92268  Central  1811.67  07-03-2020  Delivery Truck     816.340893   \n",
       "2   7535.93880  Central  4408.89  15-11-2021  Delivery Truck    4530.505983   \n",
       "3  18860.92419     West   198.90  08-08-2020     Regular Air     128.731505   \n",
       "4  20175.51620     East   243.97  30-09-2020     Express Air      17.811073   \n",
       "\n",
       "       state unit_price  zip_code  \n",
       "0  Wisconsin       3.29   54481.0  \n",
       "1  Wisconsin     258.98   54481.0  \n",
       "2      Texas     145.98   76051.0  \n",
       "3    Arizona       6.68   85281.0  \n",
       "4       Ohio       8.12   43221.0  \n",
       "\n",
       "[5 rows x 23 columns]"
      ]
     },
     "execution_count": 8,
     "metadata": {},
     "output_type": "execute_result"
    }
   ],
   "source": [
    "df['y'] = df['y'].apply(lambda x: lower_bound if x < lower_bound else (upper_bound if x > upper_bound else x))\n",
    "df.head()"
   ]
  },
  {
   "cell_type": "markdown",
   "id": "47b5db06",
   "metadata": {},
   "source": [
    "# Verifying if outliers are removed"
   ]
  },
  {
   "cell_type": "code",
   "execution_count": 9,
   "id": "6fefcefb",
   "metadata": {},
   "outputs": [
    {
     "name": "stdout",
     "output_type": "stream",
     "text": [
      "No. of Outliers greater than upper_bound= 0\n"
     ]
    }
   ],
   "source": [
    "grupper1=(df['y']>4408.89).sum()\n",
    "print(\"No. of Outliers greater than upper_bound=\",grupper1)"
   ]
  },
  {
   "cell_type": "code",
   "execution_count": 10,
   "id": "fd31194b",
   "metadata": {},
   "outputs": [
    {
     "data": {
      "text/plain": [
       "city                            object\n",
       "customer_age                     int64\n",
       "customer_name                   object\n",
       "customer_segment                object\n",
       "discount                       float64\n",
       "ds                      datetime64[ns]\n",
       "order_id                        object\n",
       "order_priority                  object\n",
       "order_quantity                   int64\n",
       "product_base_margin            float64\n",
       "product_category                object\n",
       "product_container               object\n",
       "product_name                    object\n",
       "product_sub_category            object\n",
       "profit                         float64\n",
       "region                          object\n",
       "y                              float64\n",
       "ship_date                       object\n",
       "ship_mode                       object\n",
       "shipping_cost                  float64\n",
       "state                           object\n",
       "unit_price                     float64\n",
       "zip_code                       float64\n",
       "dtype: object"
      ]
     },
     "execution_count": 10,
     "metadata": {},
     "output_type": "execute_result"
    }
   ],
   "source": [
    "df.dtypes"
   ]
  },
  {
   "cell_type": "markdown",
   "id": "14a87f4a",
   "metadata": {},
   "source": [
    "# Seasonality analysis from the graph of monthly sales"
   ]
  },
  {
   "cell_type": "code",
   "execution_count": 11,
   "id": "1378a24d",
   "metadata": {
    "scrolled": true
   },
   "outputs": [],
   "source": [
    "df1 = df[['ds', 'y']]"
   ]
  },
  {
   "cell_type": "code",
   "execution_count": 12,
   "id": "66e9a0fe",
   "metadata": {
    "scrolled": true
   },
   "outputs": [
    {
     "name": "stderr",
     "output_type": "stream",
     "text": [
      "C:\\Users\\Shubham\\AppData\\Local\\Temp\\ipykernel_4788\\3867484151.py:2: SettingWithCopyWarning: \n",
      "A value is trying to be set on a copy of a slice from a DataFrame.\n",
      "Try using .loc[row_indexer,col_indexer] = value instead\n",
      "\n",
      "See the caveats in the documentation: https://pandas.pydata.org/pandas-docs/stable/user_guide/indexing.html#returning-a-view-versus-a-copy\n",
      "  df1['month_year'] = df1['ds'].dt.to_period('M')\n"
     ]
    },
    {
     "data": {
      "text/html": [
       "<div>\n",
       "<style scoped>\n",
       "    .dataframe tbody tr th:only-of-type {\n",
       "        vertical-align: middle;\n",
       "    }\n",
       "\n",
       "    .dataframe tbody tr th {\n",
       "        vertical-align: top;\n",
       "    }\n",
       "\n",
       "    .dataframe thead th {\n",
       "        text-align: right;\n",
       "    }\n",
       "</style>\n",
       "<table border=\"1\" class=\"dataframe\">\n",
       "  <thead>\n",
       "    <tr style=\"text-align: right;\">\n",
       "      <th></th>\n",
       "      <th>month_year</th>\n",
       "      <th>y</th>\n",
       "    </tr>\n",
       "  </thead>\n",
       "  <tbody>\n",
       "    <tr>\n",
       "      <th>0</th>\n",
       "      <td>2019-01-01</td>\n",
       "      <td>26462081.13</td>\n",
       "    </tr>\n",
       "    <tr>\n",
       "      <th>1</th>\n",
       "      <td>2019-02-01</td>\n",
       "      <td>23262900.25</td>\n",
       "    </tr>\n",
       "    <tr>\n",
       "      <th>2</th>\n",
       "      <td>2019-03-01</td>\n",
       "      <td>26488513.31</td>\n",
       "    </tr>\n",
       "    <tr>\n",
       "      <th>3</th>\n",
       "      <td>2019-04-01</td>\n",
       "      <td>25966238.65</td>\n",
       "    </tr>\n",
       "    <tr>\n",
       "      <th>4</th>\n",
       "      <td>2019-05-01</td>\n",
       "      <td>26675574.93</td>\n",
       "    </tr>\n",
       "  </tbody>\n",
       "</table>\n",
       "</div>"
      ],
      "text/plain": [
       "  month_year            y\n",
       "0 2019-01-01  26462081.13\n",
       "1 2019-02-01  23262900.25\n",
       "2 2019-03-01  26488513.31\n",
       "3 2019-04-01  25966238.65\n",
       "4 2019-05-01  26675574.93"
      ]
     },
     "execution_count": 12,
     "metadata": {},
     "output_type": "execute_result"
    }
   ],
   "source": [
    "# Createing a 'month_year' column\n",
    "df1['month_year'] = df1['ds'].dt.to_period('M')  \n",
    "\n",
    "# Grouping by 'month_year' and aggregating 'sales'\n",
    "monthly_sales = df1.groupby('month_year')['y'].sum().reset_index()  \n",
    "\n",
    "# Converting 'month_year' back to datetime for plotting\n",
    "monthly_sales['month_year'] = monthly_sales['month_year'].dt.to_timestamp()\n",
    "\n",
    "monthly_sales.head()"
   ]
  },
  {
   "cell_type": "code",
   "execution_count": 13,
   "id": "ee9e197c",
   "metadata": {
    "scrolled": true
   },
   "outputs": [
    {
     "data": {
      "image/png": "[encoded data removed]",
      "text/plain": [
       "<Figure size 1200x600 with 1 Axes>"
      ]
     },
     "metadata": {},
     "output_type": "display_data"
    }
   ],
   "source": [
    "# Plot the monthly sales\n",
    "plt.figure(figsize=(12, 6))\n",
    "plt.plot(monthly_sales['month_year'], monthly_sales['y'], marker='o', linestyle='-', color='b')\n",
    "\n",
    "# Adding title and labels\n",
    "plt.title('Monthly Sales Over 4 years')\n",
    "plt.xlabel('Month-Year')\n",
    "plt.ylabel('Total Sales')\n",
    "plt.grid(True)\n",
    "plt.xticks(rotation=45)  # Rotate x-axis labels for better readability\n",
    "plt.tight_layout()\n",
    "\n",
    "# Display the plot\n",
    "plt.show()\n"
   ]
  },
  {
   "cell_type": "markdown",
   "id": "5725d9ee",
   "metadata": {},
   "source": [
    "## From the graph it is evident that the given dataset has seasonality of one year since the pattern repeats itself after each year"
   ]
  },
  {
   "cell_type": "markdown",
   "id": "66a9ea50",
   "metadata": {},
   "source": [
    "# Initializing the Prophet model"
   ]
  },
  {
   "cell_type": "code",
   "execution_count": 14,
   "id": "38bbc0cb",
   "metadata": {},
   "outputs": [],
   "source": [
    "from prophet import Prophet\n",
    "\n",
    "model = Prophet(yearly_seasonality=True)"
   ]
  },
  {
   "cell_type": "markdown",
   "id": "829159c1",
   "metadata": {},
   "source": [
    "# Fitting the prophet model to the dataframe"
   ]
  },
  {
   "cell_type": "code",
   "execution_count": 15,
   "id": "502f9d85",
   "metadata": {},
   "outputs": [
    {
     "name": "stderr",
     "output_type": "stream",
     "text": [
      "16:45:47 - cmdstanpy - INFO - Chain [1] start processing\n",
      "16:52:50 - cmdstanpy - INFO - Chain [1] done processing\n"
     ]
    },
    {
     "data": {
      "text/plain": [
       "<prophet.forecaster.Prophet at 0x1d046416f90>"
      ]
     },
     "execution_count": 15,
     "metadata": {},
     "output_type": "execute_result"
    }
   ],
   "source": [
    "model.fit(df)"
   ]
  },
  {
   "cell_type": "markdown",
   "id": "5d1e9a19",
   "metadata": {},
   "source": [
    "# Making the future dataframe"
   ]
  },
  {
   "cell_type": "code",
   "execution_count": 16,
   "id": "97065fa2",
   "metadata": {},
   "outputs": [
    {
     "data": {
      "text/html": [
       "<div>\n",
       "<style scoped>\n",
       "    .dataframe tbody tr th:only-of-type {\n",
       "        vertical-align: middle;\n",
       "    }\n",
       "\n",
       "    .dataframe tbody tr th {\n",
       "        vertical-align: top;\n",
       "    }\n",
       "\n",
       "    .dataframe thead th {\n",
       "        text-align: right;\n",
       "    }\n",
       "</style>\n",
       "<table border=\"1\" class=\"dataframe\">\n",
       "  <thead>\n",
       "    <tr style=\"text-align: right;\">\n",
       "      <th></th>\n",
       "      <th>ds</th>\n",
       "    </tr>\n",
       "  </thead>\n",
       "  <tbody>\n",
       "    <tr>\n",
       "      <th>2186</th>\n",
       "      <td>2024-12-26</td>\n",
       "    </tr>\n",
       "    <tr>\n",
       "      <th>2187</th>\n",
       "      <td>2024-12-27</td>\n",
       "    </tr>\n",
       "    <tr>\n",
       "      <th>2188</th>\n",
       "      <td>2024-12-28</td>\n",
       "    </tr>\n",
       "    <tr>\n",
       "      <th>2189</th>\n",
       "      <td>2024-12-29</td>\n",
       "    </tr>\n",
       "    <tr>\n",
       "      <th>2190</th>\n",
       "      <td>2024-12-30</td>\n",
       "    </tr>\n",
       "  </tbody>\n",
       "</table>\n",
       "</div>"
      ],
      "text/plain": [
       "             ds\n",
       "2186 2024-12-26\n",
       "2187 2024-12-27\n",
       "2188 2024-12-28\n",
       "2189 2024-12-29\n",
       "2190 2024-12-30"
      ]
     },
     "execution_count": 16,
     "metadata": {},
     "output_type": "execute_result"
    }
   ],
   "source": [
    "future=model.make_future_dataframe(periods=730)\n",
    "future.tail()"
   ]
  },
  {
   "cell_type": "code",
   "execution_count": 17,
   "id": "08c13658",
   "metadata": {},
   "outputs": [
    {
     "data": {
      "text/html": [
       "<div>\n",
       "<style scoped>\n",
       "    .dataframe tbody tr th:only-of-type {\n",
       "        vertical-align: middle;\n",
       "    }\n",
       "\n",
       "    .dataframe tbody tr th {\n",
       "        vertical-align: top;\n",
       "    }\n",
       "\n",
       "    .dataframe thead th {\n",
       "        text-align: right;\n",
       "    }\n",
       "</style>\n",
       "<table border=\"1\" class=\"dataframe\">\n",
       "  <thead>\n",
       "    <tr style=\"text-align: right;\">\n",
       "      <th></th>\n",
       "      <th>ds</th>\n",
       "    </tr>\n",
       "  </thead>\n",
       "  <tbody>\n",
       "    <tr>\n",
       "      <th>0</th>\n",
       "      <td>2019-01-01</td>\n",
       "    </tr>\n",
       "    <tr>\n",
       "      <th>1</th>\n",
       "      <td>2019-01-02</td>\n",
       "    </tr>\n",
       "    <tr>\n",
       "      <th>2</th>\n",
       "      <td>2019-01-03</td>\n",
       "    </tr>\n",
       "    <tr>\n",
       "      <th>3</th>\n",
       "      <td>2019-01-04</td>\n",
       "    </tr>\n",
       "    <tr>\n",
       "      <th>4</th>\n",
       "      <td>2019-01-05</td>\n",
       "    </tr>\n",
       "  </tbody>\n",
       "</table>\n",
       "</div>"
      ],
      "text/plain": [
       "          ds\n",
       "0 2019-01-01\n",
       "1 2019-01-02\n",
       "2 2019-01-03\n",
       "3 2019-01-04\n",
       "4 2019-01-05"
      ]
     },
     "execution_count": 17,
     "metadata": {},
     "output_type": "execute_result"
    }
   ],
   "source": [
    "future.head()"
   ]
  },
  {
   "cell_type": "markdown",
   "id": "711e603c",
   "metadata": {},
   "source": [
    "# Forecasting for the future dataframe using model"
   ]
  },
  {
   "cell_type": "code",
   "execution_count": 18,
   "id": "2266accf",
   "metadata": {},
   "outputs": [
    {
     "data": {
      "text/html": [
       "<div>\n",
       "<style scoped>\n",
       "    .dataframe tbody tr th:only-of-type {\n",
       "        vertical-align: middle;\n",
       "    }\n",
       "\n",
       "    .dataframe tbody tr th {\n",
       "        vertical-align: top;\n",
       "    }\n",
       "\n",
       "    .dataframe thead th {\n",
       "        text-align: right;\n",
       "    }\n",
       "</style>\n",
       "<table border=\"1\" class=\"dataframe\">\n",
       "  <thead>\n",
       "    <tr style=\"text-align: right;\">\n",
       "      <th></th>\n",
       "      <th>ds</th>\n",
       "      <th>yhat</th>\n",
       "      <th>yhat_lower</th>\n",
       "      <th>yhat_upper</th>\n",
       "    </tr>\n",
       "  </thead>\n",
       "  <tbody>\n",
       "    <tr>\n",
       "      <th>2186</th>\n",
       "      <td>2024-12-26</td>\n",
       "      <td>1236.449936</td>\n",
       "      <td>-754.893391</td>\n",
       "      <td>3075.375903</td>\n",
       "    </tr>\n",
       "    <tr>\n",
       "      <th>2187</th>\n",
       "      <td>2024-12-27</td>\n",
       "      <td>1245.033293</td>\n",
       "      <td>-720.269860</td>\n",
       "      <td>3305.943274</td>\n",
       "    </tr>\n",
       "    <tr>\n",
       "      <th>2188</th>\n",
       "      <td>2024-12-28</td>\n",
       "      <td>1235.464762</td>\n",
       "      <td>-582.830808</td>\n",
       "      <td>3209.257384</td>\n",
       "    </tr>\n",
       "    <tr>\n",
       "      <th>2189</th>\n",
       "      <td>2024-12-29</td>\n",
       "      <td>1230.037190</td>\n",
       "      <td>-770.249751</td>\n",
       "      <td>3141.022830</td>\n",
       "    </tr>\n",
       "    <tr>\n",
       "      <th>2190</th>\n",
       "      <td>2024-12-30</td>\n",
       "      <td>1230.679179</td>\n",
       "      <td>-730.945413</td>\n",
       "      <td>3157.628921</td>\n",
       "    </tr>\n",
       "  </tbody>\n",
       "</table>\n",
       "</div>"
      ],
      "text/plain": [
       "             ds         yhat  yhat_lower   yhat_upper\n",
       "2186 2024-12-26  1236.449936 -754.893391  3075.375903\n",
       "2187 2024-12-27  1245.033293 -720.269860  3305.943274\n",
       "2188 2024-12-28  1235.464762 -582.830808  3209.257384\n",
       "2189 2024-12-29  1230.037190 -770.249751  3141.022830\n",
       "2190 2024-12-30  1230.679179 -730.945413  3157.628921"
      ]
     },
     "execution_count": 18,
     "metadata": {},
     "output_type": "execute_result"
    }
   ],
   "source": [
    "forecast = model.predict(future)\n",
    "forecast[['ds', 'yhat', 'yhat_lower', 'yhat_upper']].tail()"
   ]
  },
  {
   "cell_type": "markdown",
   "id": "051d78d4",
   "metadata": {},
   "source": [
    "# Plot of the forecasted model"
   ]
  },
  {
   "cell_type": "code",
   "execution_count": 19,
   "id": "7452c362",
   "metadata": {},
   "outputs": [
    {
     "data": {
      "image/png": "[encoded data removed]",
      "text/plain": [
       "<Figure size 900x900 with 3 Axes>"
      ]
     },
     "metadata": {},
     "output_type": "display_data"
    }
   ],
   "source": [
    "model.plot_components(forecast)\n",
    "plt.show()"
   ]
  },
  {
   "cell_type": "markdown",
   "id": "89e73603",
   "metadata": {},
   "source": [
    "# Cross validation of built model"
   ]
  },
  {
   "cell_type": "code",
   "execution_count": 20,
   "id": "9eb0f520",
   "metadata": {},
   "outputs": [
    {
     "data": {
      "application/vnd.jupyter.widget-view+json": {
       "model_id": "4236be6414754a66b5483e526ed75e06",
       "version_major": 2,
       "version_minor": 0
      },
      "text/plain": [
       "  0%|          | 0/1 [00:00<?, ?it/s]"
      ]
     },
     "metadata": {},
     "output_type": "display_data"
    },
    {
     "name": "stderr",
     "output_type": "stream",
     "text": [
      "16:56:22 - cmdstanpy - INFO - Chain [1] start processing\n",
      "16:58:01 - cmdstanpy - INFO - Chain [1] done processing\n"
     ]
    },
    {
     "data": {
      "text/html": [
       "<div>\n",
       "<style scoped>\n",
       "    .dataframe tbody tr th:only-of-type {\n",
       "        vertical-align: middle;\n",
       "    }\n",
       "\n",
       "    .dataframe tbody tr th {\n",
       "        vertical-align: top;\n",
       "    }\n",
       "\n",
       "    .dataframe thead th {\n",
       "        text-align: right;\n",
       "    }\n",
       "</style>\n",
       "<table border=\"1\" class=\"dataframe\">\n",
       "  <thead>\n",
       "    <tr style=\"text-align: right;\">\n",
       "      <th></th>\n",
       "      <th>horizon</th>\n",
       "      <th>mse</th>\n",
       "      <th>rmse</th>\n",
       "      <th>mae</th>\n",
       "      <th>mape</th>\n",
       "      <th>mdape</th>\n",
       "      <th>smape</th>\n",
       "      <th>coverage</th>\n",
       "    </tr>\n",
       "  </thead>\n",
       "  <tbody>\n",
       "    <tr>\n",
       "      <th>0</th>\n",
       "      <td>37 days</td>\n",
       "      <td>2.284778e+06</td>\n",
       "      <td>1511.548068</td>\n",
       "      <td>1237.210749</td>\n",
       "      <td>9.445529</td>\n",
       "      <td>1.785533</td>\n",
       "      <td>1.122055</td>\n",
       "      <td>0.835084</td>\n",
       "    </tr>\n",
       "    <tr>\n",
       "      <th>1</th>\n",
       "      <td>38 days</td>\n",
       "      <td>2.285730e+06</td>\n",
       "      <td>1511.863196</td>\n",
       "      <td>1237.396101</td>\n",
       "      <td>9.479430</td>\n",
       "      <td>1.786709</td>\n",
       "      <td>1.122518</td>\n",
       "      <td>0.834974</td>\n",
       "    </tr>\n",
       "    <tr>\n",
       "      <th>2</th>\n",
       "      <td>39 days</td>\n",
       "      <td>2.284619e+06</td>\n",
       "      <td>1511.495641</td>\n",
       "      <td>1236.912257</td>\n",
       "      <td>9.453175</td>\n",
       "      <td>1.794311</td>\n",
       "      <td>1.122623</td>\n",
       "      <td>0.835135</td>\n",
       "    </tr>\n",
       "    <tr>\n",
       "      <th>3</th>\n",
       "      <td>40 days</td>\n",
       "      <td>2.289053e+06</td>\n",
       "      <td>1512.961657</td>\n",
       "      <td>1238.057588</td>\n",
       "      <td>9.505826</td>\n",
       "      <td>1.797847</td>\n",
       "      <td>1.123045</td>\n",
       "      <td>0.834845</td>\n",
       "    </tr>\n",
       "    <tr>\n",
       "      <th>4</th>\n",
       "      <td>41 days</td>\n",
       "      <td>2.295054e+06</td>\n",
       "      <td>1514.943509</td>\n",
       "      <td>1239.367707</td>\n",
       "      <td>9.530154</td>\n",
       "      <td>1.785564</td>\n",
       "      <td>1.122508</td>\n",
       "      <td>0.834295</td>\n",
       "    </tr>\n",
       "  </tbody>\n",
       "</table>\n",
       "</div>"
      ],
      "text/plain": [
       "  horizon           mse         rmse          mae      mape     mdape  \\\n",
       "0 37 days  2.284778e+06  1511.548068  1237.210749  9.445529  1.785533   \n",
       "1 38 days  2.285730e+06  1511.863196  1237.396101  9.479430  1.786709   \n",
       "2 39 days  2.284619e+06  1511.495641  1236.912257  9.453175  1.794311   \n",
       "3 40 days  2.289053e+06  1512.961657  1238.057588  9.505826  1.797847   \n",
       "4 41 days  2.295054e+06  1514.943509  1239.367707  9.530154  1.785564   \n",
       "\n",
       "      smape  coverage  \n",
       "0  1.122055  0.835084  \n",
       "1  1.122518  0.834974  \n",
       "2  1.122623  0.835135  \n",
       "3  1.123045  0.834845  \n",
       "4  1.122508  0.834295  "
      ]
     },
     "execution_count": 20,
     "metadata": {},
     "output_type": "execute_result"
    }
   ],
   "source": [
    "from prophet.diagnostics import cross_validation, performance_metrics\n",
    "\n",
    "df_cv = cross_validation(model, initial='1095 days', period='30 days', horizon='365 days')\n",
    "df_p = performance_metrics(df_cv)\n",
    "df_p.head()"
   ]
  },
  {
   "cell_type": "code",
   "execution_count": 21,
   "id": "7a4f21fb",
   "metadata": {},
   "outputs": [
    {
     "data": {
      "text/html": [
       "<div>\n",
       "<style scoped>\n",
       "    .dataframe tbody tr th:only-of-type {\n",
       "        vertical-align: middle;\n",
       "    }\n",
       "\n",
       "    .dataframe tbody tr th {\n",
       "        vertical-align: top;\n",
       "    }\n",
       "\n",
       "    .dataframe thead th {\n",
       "        text-align: right;\n",
       "    }\n",
       "</style>\n",
       "<table border=\"1\" class=\"dataframe\">\n",
       "  <thead>\n",
       "    <tr style=\"text-align: right;\">\n",
       "      <th></th>\n",
       "      <th>horizon</th>\n",
       "      <th>mse</th>\n",
       "      <th>rmse</th>\n",
       "      <th>mae</th>\n",
       "      <th>mape</th>\n",
       "      <th>mdape</th>\n",
       "      <th>smape</th>\n",
       "      <th>coverage</th>\n",
       "    </tr>\n",
       "  </thead>\n",
       "  <tbody>\n",
       "    <tr>\n",
       "      <th>324</th>\n",
       "      <td>361 days</td>\n",
       "      <td>2.310530e+06</td>\n",
       "      <td>1520.042925</td>\n",
       "      <td>1244.918729</td>\n",
       "      <td>9.654690</td>\n",
       "      <td>1.778363</td>\n",
       "      <td>1.120672</td>\n",
       "      <td>0.831236</td>\n",
       "    </tr>\n",
       "    <tr>\n",
       "      <th>325</th>\n",
       "      <td>362 days</td>\n",
       "      <td>2.303762e+06</td>\n",
       "      <td>1517.814876</td>\n",
       "      <td>1243.318837</td>\n",
       "      <td>9.682156</td>\n",
       "      <td>1.785707</td>\n",
       "      <td>1.120852</td>\n",
       "      <td>0.832165</td>\n",
       "    </tr>\n",
       "    <tr>\n",
       "      <th>326</th>\n",
       "      <td>363 days</td>\n",
       "      <td>2.303014e+06</td>\n",
       "      <td>1517.568491</td>\n",
       "      <td>1242.565012</td>\n",
       "      <td>9.664960</td>\n",
       "      <td>1.768062</td>\n",
       "      <td>1.119738</td>\n",
       "      <td>0.832247</td>\n",
       "    </tr>\n",
       "    <tr>\n",
       "      <th>327</th>\n",
       "      <td>364 days</td>\n",
       "      <td>2.306848e+06</td>\n",
       "      <td>1518.831282</td>\n",
       "      <td>1243.484286</td>\n",
       "      <td>9.680087</td>\n",
       "      <td>1.758032</td>\n",
       "      <td>1.119758</td>\n",
       "      <td>0.831738</td>\n",
       "    </tr>\n",
       "    <tr>\n",
       "      <th>328</th>\n",
       "      <td>365 days</td>\n",
       "      <td>2.306131e+06</td>\n",
       "      <td>1518.595142</td>\n",
       "      <td>1243.031136</td>\n",
       "      <td>9.684004</td>\n",
       "      <td>1.770371</td>\n",
       "      <td>1.119085</td>\n",
       "      <td>0.831665</td>\n",
       "    </tr>\n",
       "  </tbody>\n",
       "</table>\n",
       "</div>"
      ],
      "text/plain": [
       "     horizon           mse         rmse          mae      mape     mdape  \\\n",
       "324 361 days  2.310530e+06  1520.042925  1244.918729  9.654690  1.778363   \n",
       "325 362 days  2.303762e+06  1517.814876  1243.318837  9.682156  1.785707   \n",
       "326 363 days  2.303014e+06  1517.568491  1242.565012  9.664960  1.768062   \n",
       "327 364 days  2.306848e+06  1518.831282  1243.484286  9.680087  1.758032   \n",
       "328 365 days  2.306131e+06  1518.595142  1243.031136  9.684004  1.770371   \n",
       "\n",
       "        smape  coverage  \n",
       "324  1.120672  0.831236  \n",
       "325  1.120852  0.832165  \n",
       "326  1.119738  0.832247  \n",
       "327  1.119758  0.831738  \n",
       "328  1.119085  0.831665  "
      ]
     },
     "execution_count": 21,
     "metadata": {},
     "output_type": "execute_result"
    }
   ],
   "source": [
    "df_p.tail()"
   ]
  }
 ],
 "metadata": {
  "kernelspec": {
   "display_name": "Python 3 (ipykernel)",
   "language": "python",
   "name": "python3"
  },
  "language_info": {
   "codemirror_mode": {
    "name": "ipython",
    "version": 3
   },
   "file_extension": ".py",
   "mimetype": "text/x-python",
   "name": "python",
   "nbconvert_exporter": "python",
   "pygments_lexer": "ipython3",
   "version": "3.11.5"
  }
 },
 "nbformat": 4,
 "nbformat_minor": 5
}
